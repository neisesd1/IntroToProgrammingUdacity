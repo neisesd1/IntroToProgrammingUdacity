{
 "cells": [
  {
   "cell_type": "markdown",
   "metadata": {},
   "source": [
    "# Intro to Programming: Extracurricular - Data Analysis\n",
    "\n",
    "## Investigate a Dataset: Soccer Database\n",
    "\n",
    "### Section 1: Introduction to Data\n",
    "\n",
    "### Section 2: Data Wrangling & Cleaning\n",
    "\n",
    "### Section 3: Exploration of Data & Analysis\n",
    "\n",
    "### Section 4: Conclusions\n"
   ]
  },
  {
   "cell_type": "markdown",
   "metadata": {},
   "source": [
    "### Section 1: Introduction to Data\n",
    "\n",
    "##### Overview\n",
    "The data being worked on here was taken from a database housing data about soccer teams, players, and matches in Europe. The downloaded database contains data organized into 7 tables : Country, League, Match, Player, Player_Attributes, Team, and Team_Attributes. This information is from 7 total seasons of soccer, spanning from 2008 to 2015. \n",
    "\n",
    "##### Notes on Data\n",
    "There are a few things about the data that need to be acknowledged. The countries included in the data are limited to 11 countries. Along with the 11 countries, there is only one league per country, the highest level league of that country. Additionally, although team goals are recorded, the match table doesn't include any information on the player that scored the goal. "
   ]
  },
  {
   "cell_type": "markdown",
   "metadata": {},
   "source": [
    "### Correlation questions\n",
    "1. Is player __height__ and __sprint speed__ correlated? (answer: negatively corr, 0.44449925598458095)\n",
    "\n",
    "2. Is sprint speed correlated with number of goals scored?\n",
    "\n",
    "3. Does age correlate with sprint speed?\n",
    "\n",
    "\n",
    "\n",
    "### Interesting Facts from Data\n",
    "\n",
    "1. Height\n",
    "    1. Average height\n",
    "    2. Tallest Player\n",
    "    3. Shortest Player\n",
    "    4. Graph illustrating all players' heights\n",
    "\n",
    "2. Age\n",
    "    1. Average Age\n",
    "    2. Oldest Player\n",
    "    3. Youngest Player\n",
    "    4. Graph illustrating all players' ages\n",
    "\n",
    "3. Goals\n",
    "    1. Most Goals scored by an away team\n",
    "        1 How many goals?\n",
    "        2 Who was the team that did it?\n",
    "        3 Who did they do it against?\n",
    "        4 When did it occur?\n",
    "    2. Most goals scored by a home team\n",
    "        1 How many goals?\n",
    "        2 Who was the team that did it?\n",
    "        3 Who did they do it against?\n",
    "        4 When did it occur?\n",
    "    3. Most goals scored overall in season\n",
    "    4. Least goals scored by team in season\n",
    "    5. Top scoring teams by year of my choosing\n",
    "    6. Table showing all season and top ten scoring\n",
    "        1. Goal amounts for top ten scoring teams\n",
    "        2. Team names for top ten scoring teams\n",
    "    7. Sum of top ten scoring teams' goals and how its changed by season, illustrated by graph\n",
    "    8. Show me the # of seasons each team has been in the top 10 scoring \n",
    "    9. Show me the change in total scoring for the top two scoring teams in last 8 seasons\n",
    "    \n",
    "\n"
   ]
  },
  {
   "cell_type": "markdown",
   "metadata": {},
   "source": [
    "#### Data Wrangling and Cleaning\n",
    "\n",
    "    \n",
    "    "
   ]
  },
  {
   "cell_type": "code",
   "execution_count": 1,
   "metadata": {},
   "outputs": [
    {
     "data": {
      "text/plain": [
       "<function Connection.close>"
      ]
     },
     "execution_count": 1,
     "metadata": {},
     "output_type": "execute_result"
    }
   ],
   "source": [
    "import sqlite3\n",
    "import numpy as np\n",
    "import pandas as pd\n",
    "import matplotlib.pyplot as plt\n",
    "from datetime import datetime as dt\n",
    "\n",
    "conn = sqlite3.connect('database.sqlite')\n",
    "\n",
    "Player = pd.read_sql(\"SELECT * FROM Player\", conn)\n",
    "Player_Attributes = pd.read_sql(\"SELECT * FROM Player_Attributes\", conn)\n",
    "Country = pd.read_sql(\"SELECT * FROM country\", conn)\n",
    "League = pd.read_sql(\"SELECT * FROM league\", conn)\n",
    "Match = pd.read_sql(\"SELECT * FROM match\", conn)\n",
    "Team = pd.read_sql(\"SELECT * FROM team\", conn)\n",
    "Team_Attributes = pd.read_sql(\"SELECT * FROM team_attributes\", conn)\n",
    "\n",
    "Complete_Team = pd.merge(Team, Team_Attributes, on = \"team_api_id\")\n",
    "Complete_Team = Complete_Team.drop_duplicates(subset = \"team_api_id\")\n",
    "\n",
    "Complete_Player = pd.merge(Player, Player_Attributes, on = \"player_api_id\")\n",
    "Complete_Player = Complete_Player.drop_duplicates(subset = \"player_name\")\n",
    "\n",
    "#adding 'age' column to Complete_Player dataframe\n",
    "bday_array = Complete_Player['birthday'].values\n",
    "dates_list = [dt.strptime(date, \"%Y-%m-%d %H:%M:%S\").date() for date in bday_array]#this stores datetime objects\n",
    "bday_years = []\n",
    "counter = 0\n",
    "while counter < len(dates_list):\n",
    "    bday_years.append(dates_list[counter].year)  #this fills bday_years[] with years\n",
    "    counter += 1\n",
    "\n",
    "age_array = []\n",
    "x = 0 \n",
    "while x < len(dates_list):\n",
    "    age_array.append(2018-bday_years[x]) # 2018 - year born\n",
    "    x +=1\n",
    "Complete_Player['age'] = age_array\n",
    "\n",
    "conn.commit\n",
    "conn.close"
   ]
  },
  {
   "cell_type": "code",
   "execution_count": 11,
   "metadata": {},
   "outputs": [],
   "source": [
    "### creating dataframe to house only goal related columns from the Match dataframe\n",
    "goals_scored_df = pd.DataFrame()\n",
    "goals_scored_df['home team goals'] = Match.home_team_goal.values\n",
    "goals_scored_df['home team id'] = Match.home_team_api_id\n",
    "goals_scored_df['season'] = Match.season\n",
    "goals_scored_df['away team goals'] = Match.away_team_goal.values\n",
    "goals_scored_df['away team id'] = Match.away_team_api_id\n",
    "\n",
    "\n",
    "### creating dataframes to store data retrieved from goals scored dataframe\n",
    "home_team_goals_scored_2008 = pd.DataFrame(columns = ['home team goals','home team id'])\n",
    "away_team_goals_scored_2008 = pd.DataFrame(columns = ['away team goals','away team id'])\n",
    "\n",
    "home_team_goals_scored_2009 = pd.DataFrame(columns = ['home team goals','home team id'])\n",
    "away_team_goals_scored_2009 = pd.DataFrame(columns = ['away team goals','away team id'])\n",
    "\n",
    "home_team_goals_scored_2010 = pd.DataFrame(columns = ['home team goals','home team id'])\n",
    "away_team_goals_scored_2010 = pd.DataFrame(columns = ['away team goals','away team id'])\n",
    "\n",
    "home_team_goals_scored_2011 = pd.DataFrame(columns = ['home team goals','home team id'])\n",
    "away_team_goals_scored_2011 = pd.DataFrame(columns = ['away team goals','away team id'])\n",
    "\n",
    "home_team_goals_scored_2012 = pd.DataFrame(columns = ['home team goals','home team id'])\n",
    "away_team_goals_scored_2012 = pd.DataFrame(columns = ['away team goals','away team id'])\n",
    "\n",
    "home_team_goals_scored_2013 = pd.DataFrame(columns = ['home team goals','home team id'])\n",
    "away_team_goals_scored_2013 = pd.DataFrame(columns = ['away team goals','away team id'])\n",
    "\n",
    "home_team_goals_scored_2014 = pd.DataFrame(columns = ['home team goals','home team id'])\n",
    "away_team_goals_scored_2014 = pd.DataFrame(columns = ['away team goals','away team id'])\n",
    "\n",
    "home_team_goals_scored_2015 = pd.DataFrame(columns = ['home team goals','home team id'])\n",
    "away_team_goals_scored_2015 = pd.DataFrame(columns = ['away team goals','away team id'])\n",
    "\n",
    "### housing dataframes in an array, to be used with if else statement\n",
    "home_team_goals_array_of_dfs = [home_team_goals_scored_2008, home_team_goals_scored_2009,\n",
    "                               home_team_goals_scored_2010, home_team_goals_scored_2011,\n",
    "                               home_team_goals_scored_2012, home_team_goals_scored_2013,\n",
    "                               home_team_goals_scored_2014, home_team_goals_scored_2015]\n",
    "away_team_goals_array_of_dfs = [away_team_goals_scored_2008, away_team_goals_scored_2009,\n",
    "                               away_team_goals_scored_2010, away_team_goals_scored_2011,\n",
    "                               away_team_goals_scored_2012, away_team_goals_scored_2013,\n",
    "                               away_team_goals_scored_2014, away_team_goals_scored_2015]\n",
    "\n",
    "### array holding seasons as they appear in goals scored df, using in if else statement\n",
    "seasons_array = ['2008/2009', '2009/2010', '2010/2011', '2011/2012', '2012/2013', \n",
    "                 '2013/2014', '2014/2015', '2015/2016']\n",
    "\n",
    "### going through goals scored df and adding home team goal columns to correct season df\n",
    "for index, row in goals_scored_df.iterrows():\n",
    "    if row['season'] == seasons_array[0]:\n",
    "        home_team_goals_array_of_dfs[0].loc[index] = row\n",
    "        away_team_goals_array_of_dfs[0].loc[index] = row\n",
    "        \n",
    "    elif row['season'] == seasons_array[1]:\n",
    "        home_team_goals_array_of_dfs[1].loc[index] = row\n",
    "        away_team_goals_array_of_dfs[1].loc[index] = row\n",
    "        \n",
    "    elif row['season'] == seasons_array[2]:\n",
    "        home_team_goals_array_of_dfs[2].loc[index] = row\n",
    "        away_team_goals_array_of_dfs[2].loc[index] = row\n",
    "        \n",
    "    elif row['season'] == seasons_array[3]:\n",
    "        home_team_goals_array_of_dfs[3].loc[index] = row\n",
    "        away_team_goals_array_of_dfs[3].loc[index] = row\n",
    "        \n",
    "    elif row['season'] == seasons_array[4]:\n",
    "        home_team_goals_array_of_dfs[4].loc[index] = row\n",
    "        away_team_goals_array_of_dfs[4].loc[index] = row\n",
    "        \n",
    "    elif row['season'] == seasons_array[5]:\n",
    "        home_team_goals_array_of_dfs[5].loc[index] = row\n",
    "        away_team_goals_array_of_dfs[5].loc[index] = row\n",
    "        \n",
    "    elif row['season'] == seasons_array[6]:\n",
    "        home_team_goals_array_of_dfs[6].loc[index] = row\n",
    "        away_team_goals_array_of_dfs[6].loc[index] = row\n",
    "        \n",
    "    elif row['season'] == seasons_array[7]:\n",
    "        home_team_goals_array_of_dfs[7].loc[index] = row\n",
    "        away_team_goals_array_of_dfs[7].loc[index] = row\n",
    "\n",
    "### creating total goals dataframes to store home and away total goals grouped by team \n",
    "total_goals_2008 = pd.concat((home_team_goals_array_of_dfs[0].groupby('home team id').sum(),\n",
    "                            away_team_goals_array_of_dfs[0].groupby('away team id').sum()), axis = 1)\n",
    "total_goals_2009 = pd.concat((home_team_goals_array_of_dfs[1].groupby('home team id').sum(),\n",
    "                            away_team_goals_array_of_dfs[1].groupby('away team id').sum()), axis = 1)\n",
    "total_goals_2010 = pd.concat((home_team_goals_array_of_dfs[2].groupby('home team id').sum(),\n",
    "                            away_team_goals_array_of_dfs[2].groupby('away team id').sum()), axis = 1)\n",
    "total_goals_2011 = pd.concat((home_team_goals_array_of_dfs[3].groupby('home team id').sum(),\n",
    "                            away_team_goals_array_of_dfs[3].groupby('away team id').sum()), axis = 1)\n",
    "total_goals_2012 = pd.concat((home_team_goals_array_of_dfs[4].groupby('home team id').sum(),\n",
    "                            away_team_goals_array_of_dfs[4].groupby('away team id').sum()), axis = 1)\n",
    "total_goals_2013 = pd.concat((home_team_goals_array_of_dfs[5].groupby('home team id').sum(),\n",
    "                            away_team_goals_array_of_dfs[5].groupby('away team id').sum()), axis = 1)\n",
    "total_goals_2014 = pd.concat((home_team_goals_array_of_dfs[6].groupby('home team id').sum(),\n",
    "                            away_team_goals_array_of_dfs[6].groupby('away team id').sum()), axis = 1)\n",
    "total_goals_2015 = pd.concat((home_team_goals_array_of_dfs[7].groupby('home team id').sum(),\n",
    "                            away_team_goals_array_of_dfs[7].groupby('away team id').sum()), axis = 1)\n",
    "\n",
    "total_goals_array_of_seasons = [total_goals_2008,total_goals_2009,total_goals_2010,\n",
    "                               total_goals_2011,total_goals_2012,total_goals_2013,\n",
    "                               total_goals_2014,total_goals_2015]\n",
    "\n",
    "\n",
    "### adding third column to total goals dataframe that stores sum of away and home goals\n",
    "counter = 0\n",
    "while counter < len(total_goals_array_of_seasons):\n",
    "    total_goals_array_of_seasons[counter]['total goals'] = total_goals_array_of_seasons[counter]['home team goals'] + total_goals_array_of_seasons[counter]['away team goals']\n",
    "    counter +=1"
   ]
  },
  {
   "cell_type": "markdown",
   "metadata": {},
   "source": [
    "### Correlation questions\n",
    "1. Is player __height__ and __sprint speed__ correlated? (answer: negatively corr, 0.44449925598458095)\n",
    "\n",
    "2. Is sprint speed correlated with number of goals scored?\n",
    "\n",
    "3. Does age correlate with sprint speed?\n"
   ]
  },
  {
   "cell_type": "code",
   "execution_count": 65,
   "metadata": {},
   "outputs": [
    {
     "name": "stdout",
     "output_type": "stream",
     "text": [
      "Player height and player sprint speed have a negative correlation of: -0.444\n",
      "Player strength and player height have a positive correlation of: 0.580\n",
      "Player age and player sprint speed have a negative correlation of: -0.370\n"
     ]
    }
   ],
   "source": [
    "### function created to return correlation between two series\n",
    "def correlation(x,y):\n",
    "    std_x = (x - x.mean()) / x.std(ddof = 0)\n",
    "    std_y = (y - y.mean()) / y.std(ddof = 0)\n",
    "    \n",
    "    return (std_x * std_y).mean()\n",
    "\n",
    "\n",
    "'1'\n",
    "one = correlation(Complete_Player.height, Complete_Player.sprint_speed)\n",
    "print(\"Player height and player sprint speed have a negative correlation of: \" + str(\"%.3f\" % one))\n",
    "\n",
    "'2'\n",
    "two = correlation(Complete_Player.strength, Complete_Player.height)\n",
    "print(\"Player strength and player height have a positive correlation of: \" + str(\"%.3f\" % two))\n",
    "\n",
    "\n",
    "'3'\n",
    "three = correlation(Complete_Player.age, Complete_Player.sprint_speed)\n",
    "print(\"Player age and player sprint speed have a negative correlation of: \" + str(\"%.3f\" % three))"
   ]
  },
  {
   "cell_type": "markdown",
   "metadata": {},
   "source": [
    "### Interesting Facts from Data\n",
    "\n",
    "#### Height\n",
    "    1 - Average height\n",
    "    2 - Tallest Player\n",
    "    3 - Shortest Player\n",
    "    4 - Graph illustrating all players' heights\n"
   ]
  },
  {
   "cell_type": "code",
   "execution_count": 10,
   "metadata": {},
   "outputs": [
    {
     "name": "stdout",
     "output_type": "stream",
     "text": [
      "Average height = 181 cm.\n",
      "The tallest player is ['Kristof van Hout']. He is 208 cm tall.\n",
      "The shortest player is ['Juan Quero']. He is 157 cm tall.\n"
     ]
    },
    {
     "data": {
      "image/png": "[encoded data removed]",
      "text/plain": [
       "<matplotlib.figure.Figure at 0x10ff227b8>"
      ]
     },
     "metadata": {},
     "output_type": "display_data"
    }
   ],
   "source": [
    "def getAverageTallestShortestHeights():\n",
    "    print(\"Average height = \" + str(int(Complete_Player.height.mean())) + \" cm.\")\n",
    "\n",
    "    Tallest_Player_Info = Complete_Player.loc[Complete_Player['height'] == Complete_Player.height.max(), 'player_name']\n",
    "    print(\"The tallest player is \" + str(Tallest_Player_Info.values) + \". He is \" + str(int(Complete_Player.height.max())) + \" cm tall.\" )\n",
    "\n",
    "    Shortest_Player_Info = Complete_Player.loc[Complete_Player['height'] == Complete_Player.height.min(), 'player_name']\n",
    "    print(\"The shortest player is \" + str(Shortest_Player_Info.values) + \". He is \" + str(int(Complete_Player.height.min())) + \" cm tall.\" )\n",
    "\n",
    "def graphPlayerHeights():\n",
    "    bins = [150, 160, 170, 180, 190, 200, 210]\n",
    "    plt.hist(Complete_Player.height.values, bins, histtype='bar', rwidth=0.8)\n",
    "    plt.xlabel('Height in cm')\n",
    "    plt.ylabel('# of players')\n",
    "    plt.title(\"Heights of Players\")\n",
    "    plt.show()\n",
    "\n",
    "getAverageTallestShortestHeights()\n",
    "graphPlayerHeights()"
   ]
  },
  {
   "cell_type": "markdown",
   "metadata": {},
   "source": [
    "#### Age\n",
    "    1 - Average Age\n",
    "    2 - Oldest Player\n",
    "    3 - Youngest Player\n",
    "    4 - Graph illustrating all players' ages\n"
   ]
  },
  {
   "cell_type": "code",
   "execution_count": 7,
   "metadata": {},
   "outputs": [
    {
     "name": "stdout",
     "output_type": "stream",
     "text": [
      "The average age of all players is 31 years old.\n",
      "The mode age of all players is 30 years old.\n",
      "The median age of all players is 31 years old.\n",
      "The oldest player is ['Alberto Fontana']. He is 51 years old.\n",
      "The youngest player is ['Alban Lafont' 'Gianluigi Donnarumma' 'Jonathan Leko']. They are all 19 years old.\n"
     ]
    },
    {
     "data": {
      "image/png": "[encoded data removed]",
      "text/plain": [
       "<matplotlib.figure.Figure at 0x110bd6ef0>"
      ]
     },
     "metadata": {},
     "output_type": "display_data"
    }
   ],
   "source": [
    "def playerAgeAverageModeMedian():\n",
    "    average_age_of_players = Complete_Player.age.mean()\n",
    "    print(\"The average age of all players is \" + str(int(average_age_of_players)) + \" years old.\")\n",
    "    mode_age_of_all_players = Complete_Player.age.mode()\n",
    "    print(\"The mode age of all players is \" + str(int(mode_age_of_all_players)) + \" years old.\")\n",
    "    median_age_of_all_players = Complete_Player.age.median()\n",
    "    print(\"The median age of all players is \" + str(int(median_age_of_all_players)) + \" years old.\")\n",
    "\n",
    "def oldestAndYoungestPlayers():\n",
    "    oldest_player = Complete_Player.age.max()\n",
    "    oldest_player_name = Complete_Player.loc[Complete_Player['age'] == oldest_player, 'player_name']\n",
    "    print(\"The oldest player is \" + str(oldest_player_name.values) + \". He is \" + str(int(oldest_player)) + \" years old.\")\n",
    "\n",
    "    youngest_player = Complete_Player.age.min()\n",
    "    youngest_player_name = Complete_Player.loc[Complete_Player['age'] == youngest_player, 'player_name']\n",
    "    print(\"The youngest player is \" + str(youngest_player_name.values) + \". They are all \" + str(int(youngest_player)) + \" years old.\")\n",
    "    \n",
    "def graphThatShowsPlayerAges():\n",
    "    bins = [15, 20, 25, 30, 35, 40, 45, 50, 55]\n",
    "    plt.hist(Complete_Player.age.values, bins, histtype='bar', rwidth=0.8)\n",
    "    plt.xlabel('Age in years')\n",
    "    plt.ylabel('# of players')\n",
    "    plt.title(\"Age of Players\")\n",
    "    plt.show()\n",
    "    \n",
    "\n",
    "playerAgeAverageModeMedian()\n",
    "oldestAndYoungestPlayers()\n",
    "graphThatShowsPlayerAges()"
   ]
  },
  {
   "cell_type": "markdown",
   "metadata": {},
   "source": [
    "#### Goals \n",
    "    1. Most Goals scored by an away team\n",
    "        a - How many goals?\n",
    "        b - Who was the team that did it?\n",
    "        c - Who did they do it against?\n",
    "        d - When did it occur?\n",
    "    "
   ]
  },
  {
   "cell_type": "code",
   "execution_count": 15,
   "metadata": {},
   "outputs": [
    {
     "name": "stdout",
     "output_type": "stream",
     "text": [
      "The most goals scored by an away team is 9 goals.\n",
      "The team that did this was ['Paris Saint-Germain']\n",
      "The home team that let this happen was ['ES Troyes AC']\n",
      "This happend on ['2016-03-13 00:00:00']\n"
     ]
    }
   ],
   "source": [
    "def awayTeamMostGoalsScoredDetail():\n",
    "    print(\"The most goals scored by an away team is \" + str(Match.away_team_goal.max()) + \" goals.\")\n",
    "\n",
    "    most_away_goals_team_apis = Match.loc[Match['away_team_goal'] == Match.away_team_goal.max()].away_team_api_id.values\n",
    "    most_away_goals_team_name = Complete_Team.loc[Complete_Team['team_api_id'] == int(most_away_goals_team_apis), 'team_long_name']\n",
    "    print(\"The team that did this was \" + str(most_away_goals_team_name.values))\n",
    "\n",
    "    team_let_up_most_away_team_goals = Match.loc[Match['away_team_goal'] == Match.away_team_goal.max()].home_team_api_id\n",
    "    team_name_let_up_most_away_team_goals = Complete_Team.loc[Complete_Team['team_api_id'] == int(team_let_up_most_away_team_goals)].team_long_name\n",
    "    print(\"The home team that let this happen was \" + str(team_name_let_up_most_away_team_goals.values))\n",
    "    print(\"This happend on \" + str(Match.loc[Match['away_team_goal'] == Match.away_team_goal.max()].date.values))\n",
    "\n",
    "awayTeamMostGoalsScoredDetail()"
   ]
  },
  {
   "cell_type": "markdown",
   "metadata": {},
   "source": [
    "#### Goals  (cont'd)\n",
    "\n",
    "    2. Most goals scored by a home team\n",
    "        a - How many goals?\n",
    "        b - Who was the team that did it?\n",
    "        c - Who did they do it against?\n",
    "        d - When did it occur?"
   ]
  },
  {
   "cell_type": "code",
   "execution_count": 19,
   "metadata": {},
   "outputs": [
    {
     "name": "stdout",
     "output_type": "stream",
     "text": [
      "The most goals scored by a home team is 10 goals.\n",
      "The team that did this was ['PSV'] and ['Real Madrid CF']\n",
      "The away teams that let this happen were ['Feyenoord'] and ['Rayo Vallecano']\n",
      "This happend on ['2010-10-24 00:00:00' '2015-12-20 00:00:00']\n"
     ]
    }
   ],
   "source": [
    "def homeTeamMostGoalsScoredDetail():\n",
    "    \n",
    "    print(\"The most goals scored by a home team is \" + str(Match.home_team_goal.max()) + \" goals.\")\n",
    "\n",
    "    most_home_goals_team_apis = Match.loc[Match['home_team_goal'] == Match.home_team_goal.max()].home_team_api_id.values\n",
    "    most_home_goals_team_name = Complete_Team.loc[Complete_Team['team_api_id'] == int(most_home_goals_team_apis[0]), 'team_long_name']\n",
    "    most_home_goals_team_name2 = Complete_Team.loc[Complete_Team['team_api_id'] == int(most_home_goals_team_apis[1]), 'team_long_name']\n",
    "    print(\"The team that did this was \" + str(most_home_goals_team_name.values) + \" and \" + str(most_home_goals_team_name2.values))\n",
    "\n",
    "    teams_let_up_most_home_team_goals = Match.loc[Match['home_team_goal'] == Match.home_team_goal.max()].away_team_api_id\n",
    "    team_name_let_up_most_home_team_goals = Complete_Team.loc[Complete_Team['team_api_id'] == int(teams_let_up_most_home_team_goals.values[0])].team_long_name\n",
    "    team_name_let_up_most_home_team_goals2 = Complete_Team.loc[Complete_Team['team_api_id'] == int(teams_let_up_most_home_team_goals.values[1])].team_long_name\n",
    "    print(\"The away teams that let this happen were \" + str(team_name_let_up_most_home_team_goals.values) +\n",
    "         \" and \" + str(team_name_let_up_most_home_team_goals2.values))\n",
    "\n",
    "    print(\"This happend on \" + str(Match.loc[Match['home_team_goal'] == Match.home_team_goal.max()].date.values))\n",
    "    \n",
    "homeTeamMostGoalsScoredDetail()    "
   ]
  },
  {
   "cell_type": "markdown",
   "metadata": {},
   "source": [
    "#### Goals  (cont'd)   \n",
    "    3. Most goals scored overall in season\n",
    "    4. Least goals scored by team in season\n",
    "    5. Top scoring teams by year of my choosing\n",
    "    6. Table showing all season and top ten scoring\n",
    "        a - Goal amounts for top ten scoring teams\n",
    "        b - Team names for top ten scoring teams\n",
    "    7. Sum of top ten scoring teams' goals and how its changed by season, illustrated by graph\n",
    "    8. Show me the # of seasons each team has been in the top 10 scoring \n",
    "    9. Show me the change in total scoring for the top two scoring teams in last 8 seasons\n"
   ]
  },
  {
   "cell_type": "markdown",
   "metadata": {},
   "source": [
    "#### Goals (cont'd)\n",
    "\n",
    "    3. Most goals scored overall in season\n"
   ]
  },
  {
   "cell_type": "code",
   "execution_count": 21,
   "metadata": {},
   "outputs": [],
   "source": [
    "def mostGoalsInSeason():\n",
    "    max_goals = 0\n",
    "    counter = 0\n",
    "    ### check each total goals dataframe and looking for highest season goals total\n",
    "    while counter < len(total_goals_array_of_seasons):\n",
    "        if total_goals_array_of_seasons[counter]['total goals'].max() > max_goals:\n",
    "            max_goals = total_goals_array_of_seasons[counter]['total goals'].max()\n",
    "        counter += 1\n",
    "    print(\"The most amount of goals scored by a team in a season is \" + str(max_goals))\n",
    "\n",
    "mostGoalsInSeason()"
   ]
  },
  {
   "cell_type": "markdown",
   "metadata": {},
   "source": [
    "#### Goals  (cont'd)\n",
    "\n",
    "    4. Least goals scored by team in season\n"
   ]
  },
  {
   "cell_type": "code",
   "execution_count": 44,
   "metadata": {},
   "outputs": [
    {
     "name": "stdout",
     "output_type": "stream",
     "text": [
      "The least amount of goals scored by a team in a season is 17\n"
     ]
    }
   ],
   "source": [
    "def leastGoalsInSeason():\n",
    "    min_goals = max_goals\n",
    "    counter = 0\n",
    "    ### check each total goals dataframe and looking for lowest season goals total\n",
    "    while counter < len(total_goals_array_of_seasons):\n",
    "        if total_goals_array_of_seasons[counter]['total goals'].max() < min_goals:\n",
    "            min_goals = total_goals_array_of_seasons[counter]['total goals'].min()\n",
    "        counter += 1\n",
    "    print(\"The least amount of goals scored by a team in a season is \" +str(min_goals))\n",
    "\n",
    "leastGoalsInSeason()"
   ]
  },
  {
   "cell_type": "markdown",
   "metadata": {},
   "source": [
    "#### Goals  (cont'd)\n",
    "\n",
    "    5. Top scoring teams by year of my choosing\n"
   ]
  },
  {
   "cell_type": "code",
   "execution_count": 47,
   "metadata": {},
   "outputs": [
    {
     "name": "stdout",
     "output_type": "stream",
     "text": [
      "      home team goals  away team goals  total goals\n",
      "8633               65               53          118\n",
      "8634               64               46          110\n",
      "8640               50               42           92\n",
      "9772               48               38           86\n",
      "9925               50               34           84\n",
      "9931               43               41           84\n",
      "8456               44               39           83\n",
      "9847               52               31           83\n",
      "9823               46               34           80\n",
      "8592               40               36           76\n"
     ]
    }
   ],
   "source": [
    "def getTopScoringTeams(year):\n",
    "    table = pd.DataFrame()\n",
    "    if year == 2008:\n",
    "        table = total_goals_2008.nlargest(10, 'total goals', keep = 'first')\n",
    "    elif year == 2009:\n",
    "        table = total_goals_2009.nlargest(10, 'total goals', keep = 'first')\n",
    "    elif year == 2010:\n",
    "        table = total_goals_2010.nlargest(10, 'total goals', keep = 'first')\n",
    "    elif year == 2011:\n",
    "        table = total_goals_2011.nlargest(10, 'total goals', keep = 'first')\n",
    "    elif year == 2012:\n",
    "        table = total_goals_2012.nlargest(10, 'total goals', keep = 'first')\n",
    "    elif year == 2013:\n",
    "        table = total_goals_2013.nlargest(10, 'total goals', keep = 'first')\n",
    "    elif year == 2014:\n",
    "        table = total_goals_2014.nlargest(10, 'total goals', keep = 'first')\n",
    "    elif year == 2015:\n",
    "        table = total_goals_2015.nlargest(10, 'total goals', keep = 'first')\n",
    "    print(table)\n",
    "\n",
    "\n",
    "\n",
    "getTopScoringTeams(2014)"
   ]
  },
  {
   "cell_type": "markdown",
   "metadata": {},
   "source": [
    "#### Goals  (cont'd)\n",
    "\n",
    "    6. Table showing all season and top ten scoring\n",
    "        a - Goal amounts for top ten scoring teams\n",
    "        b - Team names for top ten scoring teams\n"
   ]
  },
  {
   "cell_type": "code",
   "execution_count": 22,
   "metadata": {},
   "outputs": [
    {
     "ename": "NameError",
     "evalue": "name 'total_goals_2008' is not defined",
     "output_type": "error",
     "traceback": [
      "\u001b[0;31m---------------------------------------------------------------------------\u001b[0m",
      "\u001b[0;31mNameError\u001b[0m                                 Traceback (most recent call last)",
      "\u001b[0;32m<ipython-input-22-2a80b5bef9fb>\u001b[0m in \u001b[0;36m<module>\u001b[0;34m()\u001b[0m\n\u001b[1;32m     25\u001b[0m \u001b[0;31m### creating dataframe that shows ALL SEASONS and team names for top 10 scoring teams by season\u001b[0m\u001b[0;34m\u001b[0m\u001b[0;34m\u001b[0m\u001b[0m\n\u001b[1;32m     26\u001b[0m all_seasons_top_scoring_teams = pd.DataFrame({\n\u001b[0;32m---> 27\u001b[0;31m     \u001b[0;34m'2008'\u001b[0m\u001b[0;34m:\u001b[0m \u001b[0mpd\u001b[0m\u001b[0;34m.\u001b[0m\u001b[0mSeries\u001b[0m\u001b[0;34m(\u001b[0m\u001b[0mtotal_goals_2008\u001b[0m\u001b[0;34m[\u001b[0m\u001b[0;34m'total goals'\u001b[0m\u001b[0;34m]\u001b[0m\u001b[0;34m)\u001b[0m\u001b[0;34m.\u001b[0m\u001b[0mnlargest\u001b[0m\u001b[0;34m(\u001b[0m\u001b[0;36m10\u001b[0m\u001b[0;34m)\u001b[0m\u001b[0;34m.\u001b[0m\u001b[0mindex\u001b[0m\u001b[0;34m,\u001b[0m\u001b[0;34m\u001b[0m\u001b[0m\n\u001b[0m\u001b[1;32m     28\u001b[0m     \u001b[0;34m'2009'\u001b[0m\u001b[0;34m:\u001b[0m \u001b[0mpd\u001b[0m\u001b[0;34m.\u001b[0m\u001b[0mSeries\u001b[0m\u001b[0;34m(\u001b[0m\u001b[0mtotal_goals_2009\u001b[0m\u001b[0;34m[\u001b[0m\u001b[0;34m'total goals'\u001b[0m\u001b[0;34m]\u001b[0m\u001b[0;34m)\u001b[0m\u001b[0;34m.\u001b[0m\u001b[0mnlargest\u001b[0m\u001b[0;34m(\u001b[0m\u001b[0;36m10\u001b[0m\u001b[0;34m)\u001b[0m\u001b[0;34m.\u001b[0m\u001b[0mindex\u001b[0m\u001b[0;34m,\u001b[0m\u001b[0;34m\u001b[0m\u001b[0m\n\u001b[1;32m     29\u001b[0m     \u001b[0;34m'2010'\u001b[0m\u001b[0;34m:\u001b[0m \u001b[0mpd\u001b[0m\u001b[0;34m.\u001b[0m\u001b[0mSeries\u001b[0m\u001b[0;34m(\u001b[0m\u001b[0mtotal_goals_2010\u001b[0m\u001b[0;34m[\u001b[0m\u001b[0;34m'total goals'\u001b[0m\u001b[0;34m]\u001b[0m\u001b[0;34m)\u001b[0m\u001b[0;34m.\u001b[0m\u001b[0mnlargest\u001b[0m\u001b[0;34m(\u001b[0m\u001b[0;36m10\u001b[0m\u001b[0;34m)\u001b[0m\u001b[0;34m.\u001b[0m\u001b[0mindex\u001b[0m\u001b[0;34m,\u001b[0m\u001b[0;34m\u001b[0m\u001b[0m\n",
      "\u001b[0;31mNameError\u001b[0m: name 'total_goals_2008' is not defined"
     ]
    }
   ],
   "source": [
    "'a'\n",
    "### creating dataframe that shows ALL SEASONS and the goals scored for top 10 scoring teams by season\n",
    "def getTopScoringTeams():\n",
    "    all_seasons_top_scoring = pd.DataFrame({\n",
    "        '2008': pd.Series(total_goals_2008['total goals']).nlargest(10).values,\n",
    "        '2009': pd.Series(total_goals_2009['total goals']).nlargest(10).values,\n",
    "        '2010': pd.Series(total_goals_2010['total goals']).nlargest(10).values,\n",
    "        '2011': pd.Series(total_goals_2011['total goals']).nlargest(10).values,\n",
    "        '2012': pd.Series(total_goals_2012['total goals']).nlargest(10).values,\n",
    "        '2013': pd.Series(total_goals_2013['total goals']).nlargest(10).values,\n",
    "        '2014': pd.Series(total_goals_2014['total goals']).nlargest(10).values,\n",
    "        '2015': pd.Series(total_goals_2015['total goals']).nlargest(10).values,\n",
    "    })\n",
    "\n",
    "'b'\n",
    "### function to match team long name to team api id\n",
    "def getTeamName(index):\n",
    "    team_long_name = Complete_Team['team_long_name'].loc[Complete_Team['team_api_id'] == index].values\n",
    "    return team_long_name\n",
    "def getTeamNames(df):\n",
    "    return df.applymap(getTeamName)\n",
    "### creating dataframe that shows ALL SEASONS and team names for top 10 scoring teams by season\n",
    "all_seasons_top_scoring_teams = pd.DataFrame({\n",
    "    '2008': pd.Series(total_goals_2008['total goals']).nlargest(10).index,\n",
    "    '2009': pd.Series(total_goals_2009['total goals']).nlargest(10).index,\n",
    "    '2010': pd.Series(total_goals_2010['total goals']).nlargest(10).index,\n",
    "    '2011': pd.Series(total_goals_2011['total goals']).nlargest(10).index,\n",
    "    '2012': pd.Series(total_goals_2012['total goals']).nlargest(10).index,\n",
    "    '2013': pd.Series(total_goals_2013['total goals']).nlargest(10).index,\n",
    "    '2014': pd.Series(total_goals_2014['total goals']).nlargest(10).index,\n",
    "    '2015': pd.Series(total_goals_2015['total goals']).nlargest(10).index,\n",
    "})\n",
    "\n",
    "getTopScoringTeams()\n",
    "getTeamNames(all_seasons_top_scoring_teams)\n"
   ]
  },
  {
   "cell_type": "markdown",
   "metadata": {},
   "source": [
    "#### Goals  (cont'd)\n",
    "    7. Sum of top ten scoring teams' goals and how its changed by season, illustrated by graph\n"
   ]
  },
  {
   "cell_type": "code",
   "execution_count": 75,
   "metadata": {},
   "outputs": [
    {
     "data": {
      "image/png": "[encoded data removed]",
      "text/plain": [
       "<matplotlib.figure.Figure at 0x113ed6128>"
      ]
     },
     "metadata": {},
     "output_type": "display_data"
    }
   ],
   "source": [
    "### getting sum of top ten scoring teams goal totals by season\n",
    "seasons = [2008, 2009, 2010, 2011, 2012, 2013, 2014, 2015]\n",
    "top_ten_goals_totals_by_seasons = [pd.Series(total_goals_2008['total goals']).nlargest(10).values.sum(),\n",
    "                                  pd.Series(total_goals_2009['total goals']).nlargest(10).values.sum(),\n",
    "                                  pd.Series(total_goals_2010['total goals']).nlargest(10).values.sum(),\n",
    "                                  pd.Series(total_goals_2011['total goals']).nlargest(10).values.sum(),\n",
    "                                  pd.Series(total_goals_2012['total goals']).nlargest(10).values.sum(),\n",
    "                                  pd.Series(total_goals_2013['total goals']).nlargest(10).values.sum(),\n",
    "                                  pd.Series(total_goals_2014['total goals']).nlargest(10).values.sum(),\n",
    "                                  pd.Series(total_goals_2015['total goals']).nlargest(10).values.sum()]\n",
    "\n",
    "### graph that shows how the total amount of goals scored by top 10 teams has changed by season\n",
    "plt.plot(seasons,top_ten_goals_totals_by_seasons)\n",
    "plt.xlabel('Season')\n",
    "plt.ylabel('Goals')\n",
    "plt.title('Sum of Top 10 Scoring Teams by Season')\n",
    "plt.show()"
   ]
  },
  {
   "cell_type": "markdown",
   "metadata": {},
   "source": [
    "#### Goals  (Cont'd)\n",
    "\n",
    "       8. Show me the # of seasons each team has been in the top 10 scoring \n"
   ]
  },
  {
   "cell_type": "code",
   "execution_count": 55,
   "metadata": {
    "scrolled": true
   },
   "outputs": [
    {
     "data": {
      "text/html": [
       "<div>\n",
       "<style scoped>\n",
       "    .dataframe tbody tr th:only-of-type {\n",
       "        vertical-align: middle;\n",
       "    }\n",
       "\n",
       "    .dataframe tbody tr th {\n",
       "        vertical-align: top;\n",
       "    }\n",
       "\n",
       "    .dataframe thead th {\n",
       "        text-align: right;\n",
       "    }\n",
       "</style>\n",
       "<table border=\"1\" class=\"dataframe\">\n",
       "  <thead>\n",
       "    <tr style=\"text-align: right;\">\n",
       "      <th></th>\n",
       "      <th>count</th>\n",
       "      <th>team id</th>\n",
       "      <th>team name</th>\n",
       "    </tr>\n",
       "  </thead>\n",
       "  <tbody>\n",
       "    <tr>\n",
       "      <th>0</th>\n",
       "      <td>8</td>\n",
       "      <td>8634</td>\n",
       "      <td>FC Barcelona</td>\n",
       "    </tr>\n",
       "    <tr>\n",
       "      <th>2</th>\n",
       "      <td>8</td>\n",
       "      <td>8633</td>\n",
       "      <td>Real Madrid CF</td>\n",
       "    </tr>\n",
       "    <tr>\n",
       "      <th>5</th>\n",
       "      <td>7</td>\n",
       "      <td>9925</td>\n",
       "      <td>Celtic</td>\n",
       "    </tr>\n",
       "    <tr>\n",
       "      <th>17</th>\n",
       "      <td>5</td>\n",
       "      <td>8640</td>\n",
       "      <td>PSV</td>\n",
       "    </tr>\n",
       "    <tr>\n",
       "      <th>21</th>\n",
       "      <td>4</td>\n",
       "      <td>9789</td>\n",
       "      <td>Borussia Dortmund</td>\n",
       "    </tr>\n",
       "    <tr>\n",
       "      <th>16</th>\n",
       "      <td>4</td>\n",
       "      <td>9823</td>\n",
       "      <td>FC Bayern Munich</td>\n",
       "    </tr>\n",
       "    <tr>\n",
       "      <th>15</th>\n",
       "      <td>4</td>\n",
       "      <td>9772</td>\n",
       "      <td>SL Benfica</td>\n",
       "    </tr>\n",
       "    <tr>\n",
       "      <th>13</th>\n",
       "      <td>4</td>\n",
       "      <td>10260</td>\n",
       "      <td>Manchester United</td>\n",
       "    </tr>\n",
       "    <tr>\n",
       "      <th>12</th>\n",
       "      <td>4</td>\n",
       "      <td>9931</td>\n",
       "      <td>FC Basel</td>\n",
       "    </tr>\n",
       "    <tr>\n",
       "      <th>10</th>\n",
       "      <td>4</td>\n",
       "      <td>8593</td>\n",
       "      <td>Ajax</td>\n",
       "    </tr>\n",
       "    <tr>\n",
       "      <th>7</th>\n",
       "      <td>3</td>\n",
       "      <td>8548</td>\n",
       "      <td>Rangers</td>\n",
       "    </tr>\n",
       "    <tr>\n",
       "      <th>23</th>\n",
       "      <td>3</td>\n",
       "      <td>9847</td>\n",
       "      <td>Paris Saint-Germain</td>\n",
       "    </tr>\n",
       "    <tr>\n",
       "      <th>19</th>\n",
       "      <td>3</td>\n",
       "      <td>8456</td>\n",
       "      <td>Manchester City</td>\n",
       "    </tr>\n",
       "    <tr>\n",
       "      <th>11</th>\n",
       "      <td>2</td>\n",
       "      <td>8455</td>\n",
       "      <td>Chelsea</td>\n",
       "    </tr>\n",
       "    <tr>\n",
       "      <th>8</th>\n",
       "      <td>2</td>\n",
       "      <td>8650</td>\n",
       "      <td>Liverpool</td>\n",
       "    </tr>\n",
       "    <tr>\n",
       "      <th>1</th>\n",
       "      <td>2</td>\n",
       "      <td>10192</td>\n",
       "      <td>BSC Young Boys</td>\n",
       "    </tr>\n",
       "    <tr>\n",
       "      <th>6</th>\n",
       "      <td>2</td>\n",
       "      <td>10243</td>\n",
       "      <td>FC Zürich</td>\n",
       "    </tr>\n",
       "    <tr>\n",
       "      <th>24</th>\n",
       "      <td>1</td>\n",
       "      <td>9885</td>\n",
       "      <td>Juventus</td>\n",
       "    </tr>\n",
       "    <tr>\n",
       "      <th>25</th>\n",
       "      <td>1</td>\n",
       "      <td>9875</td>\n",
       "      <td>Napoli</td>\n",
       "    </tr>\n",
       "    <tr>\n",
       "      <th>26</th>\n",
       "      <td>1</td>\n",
       "      <td>8592</td>\n",
       "      <td>Olympique de Marseille</td>\n",
       "    </tr>\n",
       "    <tr>\n",
       "      <th>22</th>\n",
       "      <td>1</td>\n",
       "      <td>10228</td>\n",
       "      <td>SC Heerenveen</td>\n",
       "    </tr>\n",
       "    <tr>\n",
       "      <th>14</th>\n",
       "      <td>1</td>\n",
       "      <td>9825</td>\n",
       "      <td>Arsenal</td>\n",
       "    </tr>\n",
       "    <tr>\n",
       "      <th>20</th>\n",
       "      <td>1</td>\n",
       "      <td>8611</td>\n",
       "      <td>FC Twente</td>\n",
       "    </tr>\n",
       "    <tr>\n",
       "      <th>18</th>\n",
       "      <td>1</td>\n",
       "      <td>9773</td>\n",
       "      <td>FC Porto</td>\n",
       "    </tr>\n",
       "    <tr>\n",
       "      <th>9</th>\n",
       "      <td>1</td>\n",
       "      <td>8635</td>\n",
       "      <td>RSC Anderlecht</td>\n",
       "    </tr>\n",
       "    <tr>\n",
       "      <th>4</th>\n",
       "      <td>1</td>\n",
       "      <td>9906</td>\n",
       "      <td>Atlético Madrid</td>\n",
       "    </tr>\n",
       "    <tr>\n",
       "      <th>3</th>\n",
       "      <td>1</td>\n",
       "      <td>8721</td>\n",
       "      <td>VfL Wolfsburg</td>\n",
       "    </tr>\n",
       "    <tr>\n",
       "      <th>27</th>\n",
       "      <td>1</td>\n",
       "      <td>8686</td>\n",
       "      <td>Roma</td>\n",
       "    </tr>\n",
       "  </tbody>\n",
       "</table>\n",
       "</div>"
      ],
      "text/plain": [
       "    count  team id               team name\n",
       "0       8     8634            FC Barcelona\n",
       "2       8     8633          Real Madrid CF\n",
       "5       7     9925                  Celtic\n",
       "17      5     8640                     PSV\n",
       "21      4     9789       Borussia Dortmund\n",
       "16      4     9823        FC Bayern Munich\n",
       "15      4     9772              SL Benfica\n",
       "13      4    10260       Manchester United\n",
       "12      4     9931                FC Basel\n",
       "10      4     8593                    Ajax\n",
       "7       3     8548                 Rangers\n",
       "23      3     9847     Paris Saint-Germain\n",
       "19      3     8456         Manchester City\n",
       "11      2     8455                 Chelsea\n",
       "8       2     8650               Liverpool\n",
       "1       2    10192          BSC Young Boys\n",
       "6       2    10243               FC Zürich\n",
       "24      1     9885                Juventus\n",
       "25      1     9875                  Napoli\n",
       "26      1     8592  Olympique de Marseille\n",
       "22      1    10228           SC Heerenveen\n",
       "14      1     9825                 Arsenal\n",
       "20      1     8611               FC Twente\n",
       "18      1     9773                FC Porto\n",
       "9       1     8635          RSC Anderlecht\n",
       "4       1     9906         Atlético Madrid\n",
       "3       1     8721           VfL Wolfsburg\n",
       "27      1     8686                    Roma"
      ]
     },
     "execution_count": 55,
     "metadata": {},
     "output_type": "execute_result"
    }
   ],
   "source": [
    "counted = []\n",
    "seen_again = []\n",
    "total_count_of_team = []\n",
    "seasons_counting_teams = ['2008', '2009', '2010', '2011', '2012', '2013', '2014', '2015']\n",
    "x = 0\n",
    "while x < len(seasons_counting_teams):\n",
    "    for item in all_seasons_top_scoring_teams[seasons_counting_teams[x]]:\n",
    "        if item not in counted:\n",
    "            counted.append(item)\n",
    "        elif item in counted:\n",
    "            seen_again.append(item)\n",
    "    x+=1\n",
    "\n",
    "for x in counted:\n",
    "    total_count_of_team.append(seen_again.count(x))\n",
    "\n",
    "total_count_of_team = np.array(total_count_of_team)\n",
    "total_count_of_team = total_count_of_team + 1\n",
    "\n",
    "times_in_top_ten = pd.DataFrame(data = {'team id': counted, 'count': total_count_of_team})\n",
    "times_in_top_ten.sort_values('count', ascending = False)\n",
    "count = 0\n",
    "while count < len(counted):\n",
    "    times_in_top_ten.loc[times_in_top_ten['team id'] == counted[count], 'team name'] = Complete_Team.loc[Complete_Team['team_api_id'] == counted[count], 'team_long_name'].values\n",
    "    count +=1\n",
    "\n",
    "times_in_top_ten.sort_values('count', ascending=False)\n",
    "\n",
    "# def graphTopScoringTeams():\n",
    "#     plt.barh(times_in_top_ten['team name'], times_in_top_ten['count'])\n",
    "#     plt.xticks(rotation = 0)\n",
    "#     plt.title('Top Ten in Scoring \\n # of Seasons')\n",
    "#     plt.show()"
   ]
  },
  {
   "cell_type": "markdown",
   "metadata": {},
   "source": [
    "#### Goals  (cont'd)\n",
    "\n",
    "    9. Show me the change in total scoring for the top two scoring teams in last 8 seasons\n"
   ]
  },
  {
   "cell_type": "code",
   "execution_count": 166,
   "metadata": {},
   "outputs": [
    {
     "data": {
      "image/png": "[encoded data removed]",
      "text/plain": [
       "<matplotlib.figure.Figure at 0x1271110b8>"
      ]
     },
     "metadata": {},
     "output_type": "display_data"
    }
   ],
   "source": [
    "real_madrid = 8633\n",
    "barcelona = 8634\n",
    "real_madrid_goals = []\n",
    "barcelona_goals = []\n",
    "x =0\n",
    "#adding season goal totals by season to appropriate list\n",
    "while x < len(total_goals_array_of_seasons):\n",
    "    real_madrid_goals.append(total_goals_array_of_seasons[x].loc[real_madrid, 'total goals'])\n",
    "    barcelona_goals.append(total_goals_array_of_seasons[x].loc[barcelona, 'total goals'])\n",
    "    x+=1\n",
    "\n",
    "plt.plot(real_madrid_goals, label = 'Real Madrid')\n",
    "plt.plot(barcelona_goals, label = 'Barcelona')\n",
    "plt.legend()\n",
    "plt.title('Total Goals Scored by Season')\n",
    "plt.xlabel('Season')\n",
    "\n",
    "plt.show()\n"
   ]
  }
 ],
 "metadata": {
  "kernelspec": {
   "display_name": "Python [default]",
   "language": "python",
   "name": "python3"
  },
  "language_info": {
   "codemirror_mode": {
    "name": "ipython",
    "version": 3
   },
   "file_extension": ".py",
   "mimetype": "text/x-python",
   "name": "python",
   "nbconvert_exporter": "python",
   "pygments_lexer": "ipython3",
   "version": "3.6.3"
  }
 },
 "nbformat": 4,
 "nbformat_minor": 2
}
