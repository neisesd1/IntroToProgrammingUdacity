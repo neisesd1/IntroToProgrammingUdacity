{
 "cells": [
  {
   "cell_type": "markdown",
   "metadata": {},
   "source": [
    "# Intro to Programming: Extracurricular - Data Analysis\n",
    "\n",
    "## Investigate a Dataset: Soccer Database\n",
    "<br>\n",
    "\n",
    "### Section 1: Introduction to Data\n",
    "\n",
    "### Section 2: Data Wrangling & Cleaning\n",
    "\n",
    "### Section 3: Exploration of Data & Analysis\n",
    "\n",
    "### Section 4: Conclusions\n",
    "\n"
   ]
  },
  {
   "cell_type": "markdown",
   "metadata": {},
   "source": [
    "### Section 1: Introduction to Data\n",
    "\n",
    "##### Overview\n",
    "The data being worked on here was taken from a database housing data about soccer teams, players, and matches in Europe. The downloaded database contains data organized into 7 tables : Country, League, Match, Player, Player_Attributes, Team, and Team_Attributes. This information is from 7 total seasons of soccer, spanning from 2008 to 2015. \n",
    "\n",
    "##### Notes on Data\n",
    "There are a few things about the data that need to be acknowledged. The countries included in the data are limited to 11 countries. Along with the 11 countries, there is only one league per country, the highest level league of that country. Additionally, although team goals are recorded, the match table doesn't include any information on the player that scored the goal. "
   ]
  },
  {
   "cell_type": "markdown",
   "metadata": {},
   "source": [
    "### Section 2: Data Wrangling and Cleaning\n",
    "\n",
    "In this section, I took the raw data from the downloaded file and organized and cleaned it. I created dataframes for Player, Team, and Match, using all the information from the file. I then used these dataframes to create additional referene tables and arrays as well as dataframes to use to derive meaningful information. Below is the documented wrangling and cleaning of the data.\n"
   ]
  },
  {
   "cell_type": "code",
   "execution_count": 2,
   "metadata": {},
   "outputs": [
    {
     "data": {
      "text/plain": [
       "<function Connection.close>"
      ]
     },
     "execution_count": 2,
     "metadata": {},
     "output_type": "execute_result"
    }
   ],
   "source": [
    "import sqlite3\n",
    "import numpy as np\n",
    "import pandas as pd\n",
    "import matplotlib.pyplot as plt\n",
    "from datetime import datetime as dt\n",
    "\n",
    "conn = sqlite3.connect('database.sqlite')\n",
    "\n",
    "Player = pd.read_sql(\"SELECT * FROM Player\", conn)\n",
    "Player_Attributes = pd.read_sql(\"SELECT * FROM Player_Attributes\", conn)\n",
    "Country = pd.read_sql(\"SELECT * FROM country\", conn)\n",
    "League = pd.read_sql(\"SELECT * FROM league\", conn)\n",
    "Match = pd.read_sql(\"SELECT * FROM match\", conn)\n",
    "Team = pd.read_sql(\"SELECT * FROM team\", conn)\n",
    "Team_Attributes = pd.read_sql(\"SELECT * FROM team_attributes\", conn)\n",
    "\n",
    "\n",
    "conn.commit\n",
    "conn.close"
   ]
  },
  {
   "cell_type": "code",
   "execution_count": 3,
   "metadata": {},
   "outputs": [],
   "source": [
    "Complete_Team = pd.merge(Team, Team_Attributes, on = \"team_api_id\")\n",
    "Complete_Team = Complete_Team.drop_duplicates(subset = \"team_api_id\")\n",
    "\n",
    "Complete_Player = pd.merge(Player, Player_Attributes, on = \"player_api_id\")\n",
    "Complete_Player = Complete_Player.drop_duplicates(subset = \"player_name\")\n",
    "\n",
    "#adding 'age' column to Complete_Player dataframe\n",
    "bday_array = Complete_Player['birthday'].values\n",
    "dates_list = [dt.strptime(date, \"%Y-%m-%d %H:%M:%S\").date() for date in bday_array]#this stores datetime objects\n",
    "bday_years = []\n",
    "counter = 0\n",
    "while counter < len(dates_list):\n",
    "    bday_years.append(dates_list[counter].year)  #this fills bday_years[] with years\n",
    "    counter += 1\n",
    "\n",
    "age_array = []\n",
    "x = 0 \n",
    "while x < len(dates_list):\n",
    "    age_array.append(2018-bday_years[x]) # 2018 - year born\n",
    "    x +=1\n",
    "Complete_Player['age'] = age_array\n"
   ]
  },
  {
   "cell_type": "code",
   "execution_count": 4,
   "metadata": {},
   "outputs": [],
   "source": [
    "### changing Match date column values to datetime objects and then storing month in month column\n",
    "match_date_values = Match.date.values\n",
    "\n",
    "datetime_objs = [dt.strptime(date, \"%Y-%m-%d %H:%M:%S\") for date in match_date_values]#this stores datetime objects\n",
    "match_month_dates_stored = []\n",
    "for x in datetime_objs:\n",
    "    match_month_dates_stored.append(x.month)\n",
    "    \n",
    "### adding new column to Match dataframe called 'date_month'\n",
    "Match['date_month'] = match_month_dates_stored\n"
   ]
  },
  {
   "cell_type": "code",
   "execution_count": 5,
   "metadata": {},
   "outputs": [],
   "source": [
    "### creating dataframe to house only goal related columns from the Match dataframe\n",
    "goals_scored_df = pd.DataFrame()\n",
    "goals_scored_df['home team goals'] = Match.home_team_goal.values\n",
    "goals_scored_df['home team id'] = Match.home_team_api_id\n",
    "goals_scored_df['season'] = Match.season\n",
    "goals_scored_df['away team goals'] = Match.away_team_goal.values\n",
    "goals_scored_df['away team id'] = Match.away_team_api_id\n",
    "goals_scored_df['match month'] = Match.date_month\n"
   ]
  },
  {
   "cell_type": "code",
   "execution_count": 6,
   "metadata": {},
   "outputs": [],
   "source": [
    "\n",
    "### creating dataframes to store data retrieved from goals scored dataframe\n",
    "home_team_goals_scored_2008 = pd.DataFrame(columns = ['home team goals','home team id', 'match month'])\n",
    "away_team_goals_scored_2008 = pd.DataFrame(columns = ['away team goals','away team id', 'match month'])\n",
    "\n",
    "home_team_goals_scored_2009 = pd.DataFrame(columns = ['home team goals','home team id', 'match month'])\n",
    "away_team_goals_scored_2009 = pd.DataFrame(columns = ['away team goals','away team id', 'match month'])\n",
    "\n",
    "home_team_goals_scored_2010 = pd.DataFrame(columns = ['home team goals','home team id', 'match month'])\n",
    "away_team_goals_scored_2010 = pd.DataFrame(columns = ['away team goals','away team id', 'match month'])\n",
    "\n",
    "home_team_goals_scored_2011 = pd.DataFrame(columns = ['home team goals','home team id', 'match month'])\n",
    "away_team_goals_scored_2011 = pd.DataFrame(columns = ['away team goals','away team id', 'match month'])\n",
    "\n",
    "home_team_goals_scored_2012 = pd.DataFrame(columns = ['home team goals','home team id', 'match month'])\n",
    "away_team_goals_scored_2012 = pd.DataFrame(columns = ['away team goals','away team id', 'match month'])\n",
    "\n",
    "home_team_goals_scored_2013 = pd.DataFrame(columns = ['home team goals','home team id', 'match month'])\n",
    "away_team_goals_scored_2013 = pd.DataFrame(columns = ['away team goals','away team id', 'match month'])\n",
    "\n",
    "home_team_goals_scored_2014 = pd.DataFrame(columns = ['home team goals','home team id', 'match month'])\n",
    "away_team_goals_scored_2014 = pd.DataFrame(columns = ['away team goals','away team id', 'match month'])\n",
    "\n",
    "home_team_goals_scored_2015 = pd.DataFrame(columns = ['home team goals','home team id', 'match month'])\n",
    "away_team_goals_scored_2015 = pd.DataFrame(columns = ['away team goals','away team id', 'match month'])\n",
    "\n",
    "### housing dataframes in an array, to be used with if else statement\n",
    "home_team_goals_array_of_dfs = [home_team_goals_scored_2008, home_team_goals_scored_2009,\n",
    "                               home_team_goals_scored_2010, home_team_goals_scored_2011,\n",
    "                               home_team_goals_scored_2012, home_team_goals_scored_2013,\n",
    "                               home_team_goals_scored_2014, home_team_goals_scored_2015]\n",
    "away_team_goals_array_of_dfs = [away_team_goals_scored_2008, away_team_goals_scored_2009,\n",
    "                               away_team_goals_scored_2010, away_team_goals_scored_2011,\n",
    "                               away_team_goals_scored_2012, away_team_goals_scored_2013,\n",
    "                               away_team_goals_scored_2014, away_team_goals_scored_2015]\n",
    "\n",
    "### array holding seasons as they appear in goals scored df, using in if else statement\n",
    "seasons_array = ['2008/2009', '2009/2010', '2010/2011', '2011/2012', '2012/2013', \n",
    "                 '2013/2014', '2014/2015', '2015/2016']\n",
    "\n",
    "### going through goals scored df and adding home team goal columns to correct season df\n",
    "for index, row in goals_scored_df.iterrows():\n",
    "    if row['season'] == seasons_array[0]:\n",
    "        home_team_goals_array_of_dfs[0].loc[index] = row\n",
    "        away_team_goals_array_of_dfs[0].loc[index] = row\n",
    "        \n",
    "    elif row['season'] == seasons_array[1]:\n",
    "        home_team_goals_array_of_dfs[1].loc[index] = row\n",
    "        away_team_goals_array_of_dfs[1].loc[index] = row\n",
    "        \n",
    "    elif row['season'] == seasons_array[2]:\n",
    "        home_team_goals_array_of_dfs[2].loc[index] = row\n",
    "        away_team_goals_array_of_dfs[2].loc[index] = row\n",
    "        \n",
    "    elif row['season'] == seasons_array[3]:\n",
    "        home_team_goals_array_of_dfs[3].loc[index] = row\n",
    "        away_team_goals_array_of_dfs[3].loc[index] = row\n",
    "        \n",
    "    elif row['season'] == seasons_array[4]:\n",
    "        home_team_goals_array_of_dfs[4].loc[index] = row\n",
    "        away_team_goals_array_of_dfs[4].loc[index] = row\n",
    "        \n",
    "    elif row['season'] == seasons_array[5]:\n",
    "        home_team_goals_array_of_dfs[5].loc[index] = row\n",
    "        away_team_goals_array_of_dfs[5].loc[index] = row\n",
    "        \n",
    "    elif row['season'] == seasons_array[6]:\n",
    "        home_team_goals_array_of_dfs[6].loc[index] = row\n",
    "        away_team_goals_array_of_dfs[6].loc[index] = row\n",
    "        \n",
    "    elif row['season'] == seasons_array[7]:\n",
    "        home_team_goals_array_of_dfs[7].loc[index] = row\n",
    "        away_team_goals_array_of_dfs[7].loc[index] = row\n",
    "\n"
   ]
  },
  {
   "cell_type": "code",
   "execution_count": 7,
   "metadata": {},
   "outputs": [],
   "source": [
    "### creating total goals dataframes to store home and away total goals grouped by team \n",
    "total_goals_2008 = pd.concat((home_team_goals_array_of_dfs[0].groupby('home team id').sum(),\n",
    "                            away_team_goals_array_of_dfs[0].groupby('away team id').sum()), axis = 1)\n",
    "total_goals_2009 = pd.concat((home_team_goals_array_of_dfs[1].groupby('home team id').sum(),\n",
    "                            away_team_goals_array_of_dfs[1].groupby('away team id').sum()), axis = 1)\n",
    "total_goals_2010 = pd.concat((home_team_goals_array_of_dfs[2].groupby('home team id').sum(),\n",
    "                            away_team_goals_array_of_dfs[2].groupby('away team id').sum()), axis = 1)\n",
    "total_goals_2011 = pd.concat((home_team_goals_array_of_dfs[3].groupby('home team id').sum(),\n",
    "                            away_team_goals_array_of_dfs[3].groupby('away team id').sum()), axis = 1)\n",
    "total_goals_2012 = pd.concat((home_team_goals_array_of_dfs[4].groupby('home team id').sum(),\n",
    "                            away_team_goals_array_of_dfs[4].groupby('away team id').sum()), axis = 1)\n",
    "total_goals_2013 = pd.concat((home_team_goals_array_of_dfs[5].groupby('home team id').sum(),\n",
    "                            away_team_goals_array_of_dfs[5].groupby('away team id').sum()), axis = 1)\n",
    "total_goals_2014 = pd.concat((home_team_goals_array_of_dfs[6].groupby('home team id').sum(),\n",
    "                            away_team_goals_array_of_dfs[6].groupby('away team id').sum()), axis = 1)\n",
    "total_goals_2015 = pd.concat((home_team_goals_array_of_dfs[7].groupby('home team id').sum(),\n",
    "                            away_team_goals_array_of_dfs[7].groupby('away team id').sum()), axis = 1)\n",
    "\n",
    "total_goals_array_of_seasons = [total_goals_2008,total_goals_2009,total_goals_2010,\n",
    "                               total_goals_2011,total_goals_2012,total_goals_2013,\n",
    "                               total_goals_2014,total_goals_2015]\n",
    "\n",
    "\n",
    "### adding third column to total goals dataframe that stores sum of away and home goals\n",
    "counter = 0\n",
    "while counter < len(total_goals_array_of_seasons):\n",
    "    total_goals_array_of_seasons[counter]['total goals'] = total_goals_array_of_seasons[counter]['home team goals'] + total_goals_array_of_seasons[counter]['away team goals']\n",
    "    counter +=1\n",
    "    "
   ]
  },
  {
   "cell_type": "markdown",
   "metadata": {},
   "source": [
    "### Section 3: Exploration of Data & Analysis"
   ]
  },
  {
   "cell_type": "markdown",
   "metadata": {},
   "source": [
    "### Correlation questions\n",
    "1. Is player __height__ and __sprint speed__ correlated? \n",
    "\n",
    "2. Is player __height__ correlated with player __strength__?\n",
    "\n",
    "3. Does __age__ correlate with __sprint speed__?\n",
    "\n",
    "4. How does being __home team__ correlate with number of __goals scored__?\n",
    "\n",
    "5. How does beiing __home team__ correlate with a higher __winning percentage__?\n",
    "\n",
    "### Interesting Facts from Data\n",
    "\n",
    "1. Height\n",
    "    1. Average height\n",
    "    2. Tallest Player\n",
    "    3. Shortest Player\n",
    "    4. Graph illustrating all players' heights\n",
    "\n",
    "2. Age\n",
    "    1. Average Age\n",
    "    2. Oldest Player\n",
    "    3. Youngest Player\n",
    "    4. Graph illustrating all players' ages\n",
    "\n",
    "3. Goals\n",
    "    1. Most Goals scored by an away team\n",
    "        1. How many goals?\n",
    "        2. Who was the team that did it?\n",
    "        3. Who did they do it against?\n",
    "        4. When did it occur?\n",
    "    2. Most goals scored by a home team\n",
    "        1. How many goals?\n",
    "        2. Who was the team that did it?\n",
    "        3. Who did they do it against?\n",
    "        4. When did it occur?\n",
    "    3. Most goals scored overall in season\n",
    "    4. Least goals scored by team in season\n",
    "    5. Top scoring teams by year of my choosing\n",
    "    6. Table showing all season and top ten scoring\n",
    "        1. Goal amounts for top ten scoring teams\n",
    "        2. Team names for top ten scoring teams\n",
    "    7. Sum of top ten scoring teams' goals and how its changed by season, illustrated by graph\n",
    "    8. Show me the # of seasons each team has been in the top 10 scoring \n",
    "    9. Show me the change in total scoring for the top two scoring teams in last 8 seasons\n",
    "    \n",
    "\n"
   ]
  },
  {
   "cell_type": "markdown",
   "metadata": {},
   "source": [
    "### Correlation questions\n",
    "1 - Is player __height__ and __sprint speed__ correlated?\n",
    "\n",
    "2 - Is player __height__ correlated with player __strength__?\n",
    "\n",
    "3 - Does __age__ correlate with __sprint speed__?\n"
   ]
  },
  {
   "cell_type": "code",
   "execution_count": 8,
   "metadata": {},
   "outputs": [
    {
     "name": "stdout",
     "output_type": "stream",
     "text": [
      "Player height and player sprint speed have a negative correlation of: -0.444\n",
      "Player strength and player height have a positive correlation of: 0.580\n",
      "Player age and player sprint speed have a negative correlation of: -0.370\n"
     ]
    }
   ],
   "source": [
    "### function created to return correlation between two series\n",
    "def correlation(x,y):\n",
    "    std_x = (x - x.mean()) / x.std(ddof = 0)\n",
    "    std_y = (y - y.mean()) / y.std(ddof = 0)\n",
    "    \n",
    "    return (std_x * std_y).mean()\n",
    "\n",
    "\n",
    "'1'\n",
    "one = correlation(Complete_Player.height, Complete_Player.sprint_speed)\n",
    "print(\"Player height and player sprint speed have a negative correlation of: \" + str(\"%.3f\" % one))\n",
    "\n",
    "'2'\n",
    "two = correlation(Complete_Player.strength, Complete_Player.height)\n",
    "print(\"Player strength and player height have a positive correlation of: \" + str(\"%.3f\" % two))\n",
    "\n",
    "\n",
    "'3'\n",
    "three = correlation(Complete_Player.age, Complete_Player.sprint_speed)\n",
    "print(\"Player age and player sprint speed have a negative correlation of: \" + str(\"%.3f\" % three))"
   ]
  },
  {
   "cell_type": "markdown",
   "metadata": {},
   "source": [
    "### Correlation cont'd\n",
    "\n",
    "   4 - How does being __home team__ correlate with number of __goals scored__?     \n",
    "   5 - How does being __home team__ correlate with a higher __winning percentage__? "
   ]
  },
  {
   "cell_type": "code",
   "execution_count": 9,
   "metadata": {},
   "outputs": [
    {
     "data": {
      "image/png": "[encoded data removed]",
      "text/plain": [
       "<matplotlib.figure.Figure at 0x11227c438>"
      ]
     },
     "metadata": {},
     "output_type": "display_data"
    }
   ],
   "source": [
    "'4'\n",
    "def getHomeAwayGoalAvg():\n",
    "    ### arrays to store avg amount of goals scored for home teams and away teams, for each season\n",
    "    home_goals_average_by_season = []\n",
    "    away_goals_average_by_season = []\n",
    "\n",
    "    ### adding avg home teams goals scored total for home and away teams, for each season\n",
    "    x = 0\n",
    "    while x < len(total_goals_array_of_seasons):\n",
    "        home_goals_average_by_season.append(total_goals_array_of_seasons[x]['home team goals'].mean())\n",
    "        away_goals_average_by_season.append(total_goals_array_of_seasons[x]['away team goals'].mean())\n",
    "        x +=1\n",
    "\n",
    "    ### plotting averages\n",
    "    plt.plot(home_goals_average_by_season, label = 'Home Team')\n",
    "    plt.plot(away_goals_average_by_season, label = 'Away Team')\n",
    "    plt.title('Season Goal Total Average')\n",
    "    plt.legend()\n",
    "    plt.xlabel('Season')\n",
    "    plt.ylabel('Goal Total')\n",
    "    plt.show()\n",
    "\n",
    "getHomeAwayGoalAvg()"
   ]
  },
  {
   "cell_type": "markdown",
   "metadata": {},
   "source": [
    "__Season Goal Total Average__<br><br>\n",
    "This shows us the average amount of goals scored for any given team for their home games and their away games, and does this for each of the 8 seasons of data. From this graph, it makes it obviously clear that games played at home will more than likely result in more goals scored compared to the games played away. From the graph, we can see that every season has home teams scoring, on average, about 5-6 more goals over the course of the season than their away games."
   ]
  },
  {
   "cell_type": "code",
   "execution_count": 10,
   "metadata": {},
   "outputs": [
    {
     "data": {
      "image/png": "[encoded data removed]",
      "text/plain": [
       "<matplotlib.figure.Figure at 0x117abd908>"
      ]
     },
     "metadata": {},
     "output_type": "display_data"
    }
   ],
   "source": [
    "'5'\n",
    "\n",
    "def winPercentage(year, team):\n",
    "\n",
    "    home_wins = 0\n",
    "    home_losses = 0\n",
    "    home_draws = 0\n",
    "    away_wins = 0\n",
    "    away_losses = 0\n",
    "    away_draws = 0\n",
    "\n",
    "    if year == 2008:\n",
    "        x = 0\n",
    "    elif year == 2009:\n",
    "        x = 1\n",
    "    elif year == 2010:\n",
    "        x = 2\n",
    "    elif year == 2011:\n",
    "        x = 3\n",
    "    elif year == 2012:\n",
    "        x = 4\n",
    "    elif year == 2013:\n",
    "        x = 5\n",
    "    elif year == 2014:\n",
    "        x = 6\n",
    "    elif year == 2015:\n",
    "        x = 7\n",
    "\n",
    "    opp_away_goals = []\n",
    "    opp_home_goals = []\n",
    "    \n",
    "    ### adding opponents goals to arrays based on home and away and based on season of choice as well as team of choice\n",
    "    for index in home_team_goals_array_of_dfs[x].loc[home_team_goals_array_of_dfs[x]['home team id'] == team, 'home team goals'].index:\n",
    "        opp_home_goals.append(Match.loc[index, 'home_team_goal'])\n",
    "\n",
    "    for index in away_team_goals_array_of_dfs[x].loc[away_team_goals_array_of_dfs[x]['away team id'] == team, 'away team goals'].index:\n",
    "        opp_away_goals.append(Match.loc[index, 'away_team_goal'])\n",
    "\n",
    "    ### comparing team of choice goals to opponents goals on a match basis to determine result of match    \n",
    "    counter = 0\n",
    "    while counter < len(opp_away_goals):\n",
    "        if home_team_goals_array_of_dfs[x].loc[home_team_goals_array_of_dfs[x]['home team id'] == team, 'home team goals'].iloc[counter] > opp_away_goals[counter]:\n",
    "            home_wins +=1\n",
    "        elif home_team_goals_array_of_dfs[x].loc[home_team_goals_array_of_dfs[x]['home team id'] == team, 'home team goals'].iloc[counter] < opp_away_goals[counter]:\n",
    "            home_losses += 1\n",
    "        elif home_team_goals_array_of_dfs[x].loc[home_team_goals_array_of_dfs[x]['home team id'] == team, 'home team goals'].iloc[counter] == opp_away_goals[counter]:\n",
    "            home_draws += 1\n",
    "        counter +=1\n",
    "    \n",
    "    ### comparing team of choice goals to opponents goals on a match basis to determine result of match    \n",
    "    counter2 = 0\n",
    "    while counter2 < len(opp_home_goals):\n",
    "        if away_team_goals_array_of_dfs[x].loc[away_team_goals_array_of_dfs[x]['away team id'] == team, 'away team goals'].iloc[counter2] > opp_home_goals[counter2]:\n",
    "            away_wins +=1\n",
    "        elif away_team_goals_array_of_dfs[x].loc[away_team_goals_array_of_dfs[x]['away team id'] == team, 'away team goals'].iloc[counter2] < opp_home_goals[counter2]:\n",
    "            away_losses += 1\n",
    "        elif away_team_goals_array_of_dfs[x].loc[away_team_goals_array_of_dfs[x]['away team id'] == team, 'away team goals'].iloc[counter2] == opp_home_goals[counter2]:\n",
    "            away_draws += 1\n",
    "        counter2 +=1\n",
    "        \n",
    "    home_winpercentage = (home_wins/(home_wins+home_losses+home_draws))\n",
    "    away_winpercentage = (away_wins/(away_wins+away_losses+away_draws))\n",
    "    \n",
    "    return home_winpercentage, away_winpercentage\n",
    "\n",
    "def plotHomeTeamAdvantage(team):\n",
    "    year0 = winPercentage(2008, team)\n",
    "    year1 = winPercentage(2009, team)\n",
    "    year2 = winPercentage(2010, team)\n",
    "    year3 = winPercentage(2011, team)\n",
    "    year4 = winPercentage(2012, team)\n",
    "    year5 = winPercentage(2013, team)\n",
    "    year6 = winPercentage(2014, team)\n",
    "    year7 = winPercentage(2015, team)\n",
    "\n",
    "    home_percentages = [year0[0], year1[0], year2[0], year3[0], year4[0], year5[0], year6[0], year7[0]]\n",
    "    away_percentages = [year0[1], year1[1], year2[1], year3[1], year4[1], year5[1], year6[1], year7[1]]\n",
    "    plt.plot(home_percentages, label = 'home team')\n",
    "    plt.plot(away_percentages, label = 'away team')\n",
    "    plt.legend()\n",
    "    plt.xlabel('Season')\n",
    "    plt.ylabel('Winning Percentage')\n",
    "    plt.title('Home vs Away Team Winning %')\n",
    "    plt.show()\n",
    "\n",
    "plotHomeTeamAdvantage(8633)"
   ]
  },
  {
   "cell_type": "markdown",
   "metadata": {},
   "source": [
    "__Home vs Away Team Winning %__ <br><br>\n",
    "This chart shows us some information that isn't too surprising after looking at the previous chart showing the goals scored. From this graph, we can conclude that there is a benefit to being home team, as it produces an average winning percentage of about double than away teams. On average, away teams win 30% or less of their away games. (Season 6 being the outlier with about 40%) However, home teams win more than 50% of their games at home on average, with most seasons being at least 60%. "
   ]
  },
  {
   "cell_type": "markdown",
   "metadata": {},
   "source": [
    "### Interesting Facts from Data\n",
    "\n",
    "#### Height\n",
    "    1 - Average height\n",
    "    2 - Tallest Player\n",
    "    3 - Shortest Player\n",
    "    4 - Graph illustrating all players' heights\n"
   ]
  },
  {
   "cell_type": "code",
   "execution_count": 11,
   "metadata": {},
   "outputs": [
    {
     "name": "stdout",
     "output_type": "stream",
     "text": [
      "Average height = 181 cm.\n",
      "The tallest player is ['Kristof van Hout']. He is 208 cm tall.\n",
      "The shortest player is ['Juan Quero']. He is 157 cm tall.\n"
     ]
    },
    {
     "data": {
      "image/png": "[encoded data removed]",
      "text/plain": [
       "<matplotlib.figure.Figure at 0x1179309e8>"
      ]
     },
     "metadata": {},
     "output_type": "display_data"
    }
   ],
   "source": [
    "def getAverageTallestShortestHeights():\n",
    "    print(\"Average height = \" + str(int(Complete_Player.height.mean())) + \" cm.\")\n",
    "\n",
    "    Tallest_Player_Info = Complete_Player.loc[Complete_Player['height'] == Complete_Player.height.max(), 'player_name']\n",
    "    print(\"The tallest player is \" + str(Tallest_Player_Info.values) + \". He is \" + str(int(Complete_Player.height.max())) + \" cm tall.\" )\n",
    "\n",
    "    Shortest_Player_Info = Complete_Player.loc[Complete_Player['height'] == Complete_Player.height.min(), 'player_name']\n",
    "    print(\"The shortest player is \" + str(Shortest_Player_Info.values) + \". He is \" + str(int(Complete_Player.height.min())) + \" cm tall.\" )\n",
    "\n",
    "def graphPlayerHeights():\n",
    "    bins = [150, 160, 170, 180, 190, 200, 210]\n",
    "    plt.hist(Complete_Player.height.values, bins, histtype='bar', rwidth=0.8)\n",
    "    plt.xlabel('Height in cm')\n",
    "    plt.ylabel('# of players')\n",
    "    plt.title(\"Heights of Players\")\n",
    "    plt.show()\n",
    "\n",
    "getAverageTallestShortestHeights()\n",
    "graphPlayerHeights()"
   ]
  },
  {
   "cell_type": "markdown",
   "metadata": {},
   "source": [
    "__Height of Players__<br><br>\n",
    "This chart gives us a visual of where the majority of players fall in terms of how tall they are. Heights are divided into bins of 10 cm difference, and this graph shows us that the clear frontrunner of common heights among players is in between 180 and 190 cm. "
   ]
  },
  {
   "cell_type": "markdown",
   "metadata": {},
   "source": [
    "#### Age\n",
    "    1 - Average Age\n",
    "    2 - Oldest Player\n",
    "    3 - Youngest Player\n",
    "    4 - Graph illustrating all players' ages\n"
   ]
  },
  {
   "cell_type": "code",
   "execution_count": 12,
   "metadata": {},
   "outputs": [
    {
     "name": "stdout",
     "output_type": "stream",
     "text": [
      "The average age of all players is 31 years old.\n",
      "The mode age of all players is 30 years old.\n",
      "The median age of all players is 31 years old.\n",
      "The oldest player is ['Alberto Fontana']. He is 51 years old.\n",
      "The youngest player is ['Alban Lafont' 'Gianluigi Donnarumma' 'Jonathan Leko']. They are all 19 years old.\n"
     ]
    },
    {
     "data": {
      "image/png": "[encoded data removed]",
      "text/plain": [
       "<matplotlib.figure.Figure at 0x1187161d0>"
      ]
     },
     "metadata": {},
     "output_type": "display_data"
    }
   ],
   "source": [
    "def playerAgeAverageModeMedian():\n",
    "    average_age_of_players = Complete_Player.age.mean()\n",
    "    print(\"The average age of all players is \" + str(int(average_age_of_players)) + \" years old.\")\n",
    "    mode_age_of_all_players = Complete_Player.age.mode()\n",
    "    print(\"The mode age of all players is \" + str(int(mode_age_of_all_players)) + \" years old.\")\n",
    "    median_age_of_all_players = Complete_Player.age.median()\n",
    "    print(\"The median age of all players is \" + str(int(median_age_of_all_players)) + \" years old.\")\n",
    "\n",
    "def oldestAndYoungestPlayers():\n",
    "    oldest_player = Complete_Player.age.max()\n",
    "    oldest_player_name = Complete_Player.loc[Complete_Player['age'] == oldest_player, 'player_name']\n",
    "    print(\"The oldest player is \" + str(oldest_player_name.values) + \". He is \" + str(int(oldest_player)) + \" years old.\")\n",
    "\n",
    "    youngest_player = Complete_Player.age.min()\n",
    "    youngest_player_name = Complete_Player.loc[Complete_Player['age'] == youngest_player, 'player_name']\n",
    "    print(\"The youngest player is \" + str(youngest_player_name.values) + \". They are all \" + str(int(youngest_player)) + \" years old.\")\n",
    "    \n",
    "def graphThatShowsPlayerAges():\n",
    "    bins = [15, 20, 25, 30, 35, 40, 45, 50, 55]\n",
    "    plt.hist(Complete_Player.age.values, bins, histtype='bar', rwidth=0.8)\n",
    "    plt.xlabel('Age in years')\n",
    "    plt.ylabel('# of players')\n",
    "    plt.title(\"Age of Players\")\n",
    "    plt.show()\n",
    "    \n",
    "\n",
    "playerAgeAverageModeMedian()\n",
    "oldestAndYoungestPlayers()\n",
    "graphThatShowsPlayerAges()"
   ]
  },
  {
   "cell_type": "markdown",
   "metadata": {},
   "source": [
    "__Age of Players__<br><br>\n",
    "The graph illustrated here shows us the age differences in players and the amount of those players in each age group. As you can see, the most common age groups are in between 30 and 35 as well as in between 25 and 30. What surprised me was the higher than I predicted amount of players over the age of 45. This is such an old age to be competing with younger players that it surprised me to see so many. "
   ]
  },
  {
   "cell_type": "markdown",
   "metadata": {},
   "source": [
    "#### Goals \n",
    "    1. Most Goals scored by an away team\n",
    "        a - How many goals?\n",
    "        b - Who was the team that did it?\n",
    "        c - Who did they do it against?\n",
    "        d - When did it occur?\n",
    "    "
   ]
  },
  {
   "cell_type": "code",
   "execution_count": 13,
   "metadata": {},
   "outputs": [
    {
     "name": "stdout",
     "output_type": "stream",
     "text": [
      "The most goals scored by an away team is 9 goals.\n",
      "The team that did this was ['Paris Saint-Germain']\n",
      "The home team that let this happen was ['ES Troyes AC']\n",
      "This happend on ['2016-03-13 00:00:00']\n"
     ]
    }
   ],
   "source": [
    "def awayTeamMostGoalsScoredDetail():\n",
    "    print(\"The most goals scored by an away team is \" + str(Match.away_team_goal.max()) + \" goals.\")\n",
    "\n",
    "    most_away_goals_team_apis = Match.loc[Match['away_team_goal'] == Match.away_team_goal.max()].away_team_api_id.values\n",
    "    most_away_goals_team_name = Complete_Team.loc[Complete_Team['team_api_id'] == int(most_away_goals_team_apis), 'team_long_name']\n",
    "    print(\"The team that did this was \" + str(most_away_goals_team_name.values))\n",
    "\n",
    "    team_let_up_most_away_team_goals = Match.loc[Match['away_team_goal'] == Match.away_team_goal.max()].home_team_api_id\n",
    "    team_name_let_up_most_away_team_goals = Complete_Team.loc[Complete_Team['team_api_id'] == int(team_let_up_most_away_team_goals)].team_long_name\n",
    "    print(\"The home team that let this happen was \" + str(team_name_let_up_most_away_team_goals.values))\n",
    "    print(\"This happend on \" + str(Match.loc[Match['away_team_goal'] == Match.away_team_goal.max()].date.values))\n",
    "\n",
    "awayTeamMostGoalsScoredDetail()"
   ]
  },
  {
   "cell_type": "markdown",
   "metadata": {},
   "source": [
    "#### Goals  (cont'd)\n",
    "\n",
    "    2. Most goals scored by a home team\n",
    "        a - How many goals?\n",
    "        b - Who was the team that did it?\n",
    "        c - Who did they do it against?\n",
    "        d - When did it occur?"
   ]
  },
  {
   "cell_type": "code",
   "execution_count": 14,
   "metadata": {},
   "outputs": [
    {
     "name": "stdout",
     "output_type": "stream",
     "text": [
      "The most goals scored by a home team is 10 goals.\n",
      "The team that did this was ['PSV'] and ['Real Madrid CF']\n",
      "The away teams that let this happen were ['Feyenoord'] and ['Rayo Vallecano']\n",
      "This happend on ['2010-10-24 00:00:00' '2015-12-20 00:00:00']\n"
     ]
    }
   ],
   "source": [
    "def homeTeamMostGoalsScoredDetail():\n",
    "    \n",
    "    print(\"The most goals scored by a home team is \" + str(Match.home_team_goal.max()) + \" goals.\")\n",
    "\n",
    "    most_home_goals_team_apis = Match.loc[Match['home_team_goal'] == Match.home_team_goal.max()].home_team_api_id.values\n",
    "    most_home_goals_team_name = Complete_Team.loc[Complete_Team['team_api_id'] == int(most_home_goals_team_apis[0]), 'team_long_name']\n",
    "    most_home_goals_team_name2 = Complete_Team.loc[Complete_Team['team_api_id'] == int(most_home_goals_team_apis[1]), 'team_long_name']\n",
    "    print(\"The team that did this was \" + str(most_home_goals_team_name.values) + \" and \" + str(most_home_goals_team_name2.values))\n",
    "\n",
    "    teams_let_up_most_home_team_goals = Match.loc[Match['home_team_goal'] == Match.home_team_goal.max()].away_team_api_id\n",
    "    team_name_let_up_most_home_team_goals = Complete_Team.loc[Complete_Team['team_api_id'] == int(teams_let_up_most_home_team_goals.values[0])].team_long_name\n",
    "    team_name_let_up_most_home_team_goals2 = Complete_Team.loc[Complete_Team['team_api_id'] == int(teams_let_up_most_home_team_goals.values[1])].team_long_name\n",
    "    print(\"The away teams that let this happen were \" + str(team_name_let_up_most_home_team_goals.values) +\n",
    "         \" and \" + str(team_name_let_up_most_home_team_goals2.values))\n",
    "\n",
    "    print(\"This happend on \" + str(Match.loc[Match['home_team_goal'] == Match.home_team_goal.max()].date.values))\n",
    "    \n",
    "homeTeamMostGoalsScoredDetail()    "
   ]
  },
  {
   "cell_type": "markdown",
   "metadata": {},
   "source": [
    "#### Goals  (cont'd)   \n",
    "    3. Most goals scored overall in season\n",
    "    4. Least goals scored by team in season\n",
    "    5. Top scoring teams by year of my choosing\n",
    "    6. Table showing all season and top ten scoring\n",
    "        a - Goal amounts for top ten scoring teams\n",
    "        b - Team names for top ten scoring teams\n",
    "    7. Sum of top ten scoring teams' goals and how its changed by season, illustrated by graph\n",
    "    8. Show me the # of seasons each team has been in the top 10 scoring \n",
    "    9. Show me the change in total scoring for the top two scoring teams in last 8 seasons\n"
   ]
  },
  {
   "cell_type": "markdown",
   "metadata": {},
   "source": [
    "#### Goals (cont'd)\n",
    "\n",
    "    3. Most goals scored overall in season\n"
   ]
  },
  {
   "cell_type": "code",
   "execution_count": 15,
   "metadata": {},
   "outputs": [
    {
     "name": "stdout",
     "output_type": "stream",
     "text": [
      "The most amount of goals scored by a team in a season is 121\n"
     ]
    }
   ],
   "source": [
    "def mostGoalsInSeason():\n",
    "    max_goals = 0\n",
    "    counter = 0\n",
    "    ### check each total goals dataframe and looking for highest season goals total\n",
    "    while counter < len(total_goals_array_of_seasons):\n",
    "        if total_goals_array_of_seasons[counter]['total goals'].max() > max_goals:\n",
    "            max_goals = total_goals_array_of_seasons[counter]['total goals'].max()\n",
    "        counter += 1\n",
    "    print(\"The most amount of goals scored by a team in a season is \" + str(max_goals))\n",
    "mostGoalsInSeason()\n"
   ]
  },
  {
   "cell_type": "markdown",
   "metadata": {},
   "source": [
    "#### Goals  (cont'd)\n",
    "\n",
    "    4. Least goals scored by team in season\n"
   ]
  },
  {
   "cell_type": "code",
   "execution_count": 16,
   "metadata": {},
   "outputs": [
    {
     "name": "stdout",
     "output_type": "stream",
     "text": [
      "The least amount of goals scored by a team in a season is 17\n"
     ]
    }
   ],
   "source": [
    "def leastGoalsInSeason():\n",
    "    min_goals = 1000\n",
    "    counter = 0\n",
    "    ### check each total goals dataframe and looking for lowest season goals total\n",
    "    while counter < len(total_goals_array_of_seasons):\n",
    "        if total_goals_array_of_seasons[counter]['total goals'].max() < min_goals:\n",
    "            min_goals = total_goals_array_of_seasons[counter]['total goals'].min()\n",
    "        counter += 1\n",
    "    print(\"The least amount of goals scored by a team in a season is \" +str(min_goals))\n",
    "\n",
    "leastGoalsInSeason()"
   ]
  },
  {
   "cell_type": "markdown",
   "metadata": {},
   "source": [
    "#### Goals  (cont'd)\n",
    "\n",
    "    5. Top scoring teams by year of my choosing\n"
   ]
  },
  {
   "cell_type": "code",
   "execution_count": 22,
   "metadata": {},
   "outputs": [
    {
     "data": {
      "text/html": [
       "<div>\n",
       "<style scoped>\n",
       "    .dataframe tbody tr th:only-of-type {\n",
       "        vertical-align: middle;\n",
       "    }\n",
       "\n",
       "    .dataframe tbody tr th {\n",
       "        vertical-align: top;\n",
       "    }\n",
       "\n",
       "    .dataframe thead th {\n",
       "        text-align: right;\n",
       "    }\n",
       "</style>\n",
       "<table border=\"1\" class=\"dataframe\">\n",
       "  <thead>\n",
       "    <tr style=\"text-align: right;\">\n",
       "      <th></th>\n",
       "      <th>home team goals</th>\n",
       "      <th>match month</th>\n",
       "      <th>away team goals</th>\n",
       "      <th>match month</th>\n",
       "      <th>total goals</th>\n",
       "    </tr>\n",
       "  </thead>\n",
       "  <tbody>\n",
       "    <tr>\n",
       "      <th>8633</th>\n",
       "      <td>65</td>\n",
       "      <td>107</td>\n",
       "      <td>53</td>\n",
       "      <td>112</td>\n",
       "      <td>118</td>\n",
       "    </tr>\n",
       "    <tr>\n",
       "      <th>8634</th>\n",
       "      <td>64</td>\n",
       "      <td>117</td>\n",
       "      <td>46</td>\n",
       "      <td>112</td>\n",
       "      <td>110</td>\n",
       "    </tr>\n",
       "    <tr>\n",
       "      <th>8640</th>\n",
       "      <td>50</td>\n",
       "      <td>116</td>\n",
       "      <td>42</td>\n",
       "      <td>103</td>\n",
       "      <td>92</td>\n",
       "    </tr>\n",
       "    <tr>\n",
       "      <th>9772</th>\n",
       "      <td>48</td>\n",
       "      <td>100</td>\n",
       "      <td>38</td>\n",
       "      <td>97</td>\n",
       "      <td>86</td>\n",
       "    </tr>\n",
       "    <tr>\n",
       "      <th>9925</th>\n",
       "      <td>50</td>\n",
       "      <td>134</td>\n",
       "      <td>34</td>\n",
       "      <td>111</td>\n",
       "      <td>84</td>\n",
       "    </tr>\n",
       "    <tr>\n",
       "      <th>9931</th>\n",
       "      <td>43</td>\n",
       "      <td>115</td>\n",
       "      <td>41</td>\n",
       "      <td>119</td>\n",
       "      <td>84</td>\n",
       "    </tr>\n",
       "    <tr>\n",
       "      <th>8456</th>\n",
       "      <td>44</td>\n",
       "      <td>123</td>\n",
       "      <td>39</td>\n",
       "      <td>132</td>\n",
       "      <td>83</td>\n",
       "    </tr>\n",
       "    <tr>\n",
       "      <th>9847</th>\n",
       "      <td>52</td>\n",
       "      <td>121</td>\n",
       "      <td>31</td>\n",
       "      <td>127</td>\n",
       "      <td>83</td>\n",
       "    </tr>\n",
       "    <tr>\n",
       "      <th>9823</th>\n",
       "      <td>46</td>\n",
       "      <td>119</td>\n",
       "      <td>34</td>\n",
       "      <td>111</td>\n",
       "      <td>80</td>\n",
       "    </tr>\n",
       "    <tr>\n",
       "      <th>8592</th>\n",
       "      <td>40</td>\n",
       "      <td>128</td>\n",
       "      <td>36</td>\n",
       "      <td>119</td>\n",
       "      <td>76</td>\n",
       "    </tr>\n",
       "  </tbody>\n",
       "</table>\n",
       "</div>"
      ],
      "text/plain": [
       "      home team goals  match month  away team goals  match month  total goals\n",
       "8633               65          107               53          112          118\n",
       "8634               64          117               46          112          110\n",
       "8640               50          116               42          103           92\n",
       "9772               48          100               38           97           86\n",
       "9925               50          134               34          111           84\n",
       "9931               43          115               41          119           84\n",
       "8456               44          123               39          132           83\n",
       "9847               52          121               31          127           83\n",
       "9823               46          119               34          111           80\n",
       "8592               40          128               36          119           76"
      ]
     },
     "execution_count": 22,
     "metadata": {},
     "output_type": "execute_result"
    }
   ],
   "source": [
    "def getTopScoringTeams(year):\n",
    "    table = pd.DataFrame()\n",
    "    if year == 2008:\n",
    "        table = total_goals_2008.nlargest(10, 'total goals', keep = 'first')\n",
    "    elif year == 2009:\n",
    "        table = total_goals_2009.nlargest(10, 'total goals', keep = 'first')\n",
    "    elif year == 2010:\n",
    "        table = total_goals_2010.nlargest(10, 'total goals', keep = 'first')\n",
    "    elif year == 2011:\n",
    "        table = total_goals_2011.nlargest(10, 'total goals', keep = 'first')\n",
    "    elif year == 2012:\n",
    "        table = total_goals_2012.nlargest(10, 'total goals', keep = 'first')\n",
    "    elif year == 2013:\n",
    "        table = total_goals_2013.nlargest(10, 'total goals', keep = 'first')\n",
    "    elif year == 2014:\n",
    "        table = total_goals_2014.nlargest(10, 'total goals', keep = 'first')\n",
    "    elif year == 2015:\n",
    "        table = total_goals_2015.nlargest(10, 'total goals', keep = 'first')\n",
    "    return table\n",
    "\n",
    "\n",
    "\n",
    "getTopScoringTeams(2014)"
   ]
  },
  {
   "cell_type": "markdown",
   "metadata": {},
   "source": [
    "#### Goals  (cont'd)\n",
    "\n",
    "    6. Table showing all season and top ten scoring\n",
    "        a - Goal amounts for top ten scoring teams\n",
    "        b - Team names for top ten scoring teams\n"
   ]
  },
  {
   "cell_type": "code",
   "execution_count": 25,
   "metadata": {},
   "outputs": [
    {
     "data": {
      "text/html": [
       "<div>\n",
       "<style scoped>\n",
       "    .dataframe tbody tr th:only-of-type {\n",
       "        vertical-align: middle;\n",
       "    }\n",
       "\n",
       "    .dataframe tbody tr th {\n",
       "        vertical-align: top;\n",
       "    }\n",
       "\n",
       "    .dataframe thead th {\n",
       "        text-align: right;\n",
       "    }\n",
       "</style>\n",
       "<table border=\"1\" class=\"dataframe\">\n",
       "  <thead>\n",
       "    <tr style=\"text-align: right;\">\n",
       "      <th></th>\n",
       "      <th>2008</th>\n",
       "      <th>2009</th>\n",
       "      <th>2010</th>\n",
       "      <th>2011</th>\n",
       "      <th>2012</th>\n",
       "      <th>2013</th>\n",
       "      <th>2014</th>\n",
       "      <th>2015</th>\n",
       "    </tr>\n",
       "  </thead>\n",
       "  <tbody>\n",
       "    <tr>\n",
       "      <th>0</th>\n",
       "      <td>[FC Barcelona]</td>\n",
       "      <td>[Ajax]</td>\n",
       "      <td>[Real Madrid CF]</td>\n",
       "      <td>[Real Madrid CF]</td>\n",
       "      <td>[FC Barcelona]</td>\n",
       "      <td>[Real Madrid CF]</td>\n",
       "      <td>[Real Madrid CF]</td>\n",
       "      <td>[FC Barcelona]</td>\n",
       "    </tr>\n",
       "    <tr>\n",
       "      <th>1</th>\n",
       "      <td>[BSC Young Boys]</td>\n",
       "      <td>[Chelsea]</td>\n",
       "      <td>[FC Barcelona]</td>\n",
       "      <td>[FC Barcelona]</td>\n",
       "      <td>[Real Madrid CF]</td>\n",
       "      <td>[Manchester City]</td>\n",
       "      <td>[FC Barcelona]</td>\n",
       "      <td>[Real Madrid CF]</td>\n",
       "    </tr>\n",
       "    <tr>\n",
       "      <th>2</th>\n",
       "      <td>[Real Madrid CF]</td>\n",
       "      <td>[Real Madrid CF]</td>\n",
       "      <td>[Rangers]</td>\n",
       "      <td>[Manchester City]</td>\n",
       "      <td>[PSV]</td>\n",
       "      <td>[Celtic]</td>\n",
       "      <td>[PSV]</td>\n",
       "      <td>[Paris Saint-Germain]</td>\n",
       "    </tr>\n",
       "    <tr>\n",
       "      <th>3</th>\n",
       "      <td>[VfL Wolfsburg]</td>\n",
       "      <td>[FC Barcelona]</td>\n",
       "      <td>[Celtic]</td>\n",
       "      <td>[Ajax]</td>\n",
       "      <td>[FC Bayern Munich]</td>\n",
       "      <td>[Liverpool]</td>\n",
       "      <td>[SL Benfica]</td>\n",
       "      <td>[Celtic]</td>\n",
       "    </tr>\n",
       "    <tr>\n",
       "      <th>4</th>\n",
       "      <td>[Atlético Madrid]</td>\n",
       "      <td>[FC Basel]</td>\n",
       "      <td>[FC Bayern Munich]</td>\n",
       "      <td>[Manchester United]</td>\n",
       "      <td>[Celtic]</td>\n",
       "      <td>[FC Barcelona]</td>\n",
       "      <td>[Celtic]</td>\n",
       "      <td>[PSV]</td>\n",
       "    </tr>\n",
       "    <tr>\n",
       "      <th>5</th>\n",
       "      <td>[Celtic]</td>\n",
       "      <td>[Manchester United]</td>\n",
       "      <td>[PSV]</td>\n",
       "      <td>[PSV]</td>\n",
       "      <td>[Manchester United]</td>\n",
       "      <td>[FC Bayern Munich]</td>\n",
       "      <td>[FC Basel]</td>\n",
       "      <td>[SL Benfica]</td>\n",
       "    </tr>\n",
       "    <tr>\n",
       "      <th>6</th>\n",
       "      <td>[FC Zürich]</td>\n",
       "      <td>[Arsenal]</td>\n",
       "      <td>[Manchester United]</td>\n",
       "      <td>[Celtic]</td>\n",
       "      <td>[Ajax]</td>\n",
       "      <td>[Paris Saint-Germain]</td>\n",
       "      <td>[Manchester City]</td>\n",
       "      <td>[FC Basel]</td>\n",
       "    </tr>\n",
       "    <tr>\n",
       "      <th>7</th>\n",
       "      <td>[Rangers]</td>\n",
       "      <td>[Rangers]</td>\n",
       "      <td>[FC Basel]</td>\n",
       "      <td>[FC Twente]</td>\n",
       "      <td>[Borussia Dortmund]</td>\n",
       "      <td>[Borussia Dortmund]</td>\n",
       "      <td>[Paris Saint-Germain]</td>\n",
       "      <td>[Roma]</td>\n",
       "    </tr>\n",
       "    <tr>\n",
       "      <th>8</th>\n",
       "      <td>[Liverpool]</td>\n",
       "      <td>[SL Benfica]</td>\n",
       "      <td>[FC Zürich]</td>\n",
       "      <td>[Borussia Dortmund]</td>\n",
       "      <td>[SL Benfica]</td>\n",
       "      <td>[Juventus]</td>\n",
       "      <td>[FC Bayern Munich]</td>\n",
       "      <td>[Borussia Dortmund]</td>\n",
       "    </tr>\n",
       "    <tr>\n",
       "      <th>9</th>\n",
       "      <td>[RSC Anderlecht]</td>\n",
       "      <td>[BSC Young Boys]</td>\n",
       "      <td>[FC Porto]</td>\n",
       "      <td>[SC Heerenveen]</td>\n",
       "      <td>[Chelsea]</td>\n",
       "      <td>[Napoli]</td>\n",
       "      <td>[Olympique de Marseille]</td>\n",
       "      <td>[Ajax]</td>\n",
       "    </tr>\n",
       "  </tbody>\n",
       "</table>\n",
       "</div>"
      ],
      "text/plain": [
       "                2008                 2009                 2010  \\\n",
       "0     [FC Barcelona]               [Ajax]     [Real Madrid CF]   \n",
       "1   [BSC Young Boys]            [Chelsea]       [FC Barcelona]   \n",
       "2   [Real Madrid CF]     [Real Madrid CF]            [Rangers]   \n",
       "3    [VfL Wolfsburg]       [FC Barcelona]             [Celtic]   \n",
       "4  [Atlético Madrid]           [FC Basel]   [FC Bayern Munich]   \n",
       "5           [Celtic]  [Manchester United]                [PSV]   \n",
       "6        [FC Zürich]            [Arsenal]  [Manchester United]   \n",
       "7          [Rangers]            [Rangers]           [FC Basel]   \n",
       "8        [Liverpool]         [SL Benfica]          [FC Zürich]   \n",
       "9   [RSC Anderlecht]     [BSC Young Boys]           [FC Porto]   \n",
       "\n",
       "                  2011                 2012                   2013  \\\n",
       "0     [Real Madrid CF]       [FC Barcelona]       [Real Madrid CF]   \n",
       "1       [FC Barcelona]     [Real Madrid CF]      [Manchester City]   \n",
       "2    [Manchester City]                [PSV]               [Celtic]   \n",
       "3               [Ajax]   [FC Bayern Munich]            [Liverpool]   \n",
       "4  [Manchester United]             [Celtic]         [FC Barcelona]   \n",
       "5                [PSV]  [Manchester United]     [FC Bayern Munich]   \n",
       "6             [Celtic]               [Ajax]  [Paris Saint-Germain]   \n",
       "7          [FC Twente]  [Borussia Dortmund]    [Borussia Dortmund]   \n",
       "8  [Borussia Dortmund]         [SL Benfica]             [Juventus]   \n",
       "9      [SC Heerenveen]            [Chelsea]               [Napoli]   \n",
       "\n",
       "                       2014                   2015  \n",
       "0          [Real Madrid CF]         [FC Barcelona]  \n",
       "1            [FC Barcelona]       [Real Madrid CF]  \n",
       "2                     [PSV]  [Paris Saint-Germain]  \n",
       "3              [SL Benfica]               [Celtic]  \n",
       "4                  [Celtic]                  [PSV]  \n",
       "5                [FC Basel]           [SL Benfica]  \n",
       "6         [Manchester City]             [FC Basel]  \n",
       "7     [Paris Saint-Germain]                 [Roma]  \n",
       "8        [FC Bayern Munich]    [Borussia Dortmund]  \n",
       "9  [Olympique de Marseille]                 [Ajax]  "
      ]
     },
     "execution_count": 25,
     "metadata": {},
     "output_type": "execute_result"
    }
   ],
   "source": [
    "'a'\n",
    "### creating dataframe that shows ALL SEASONS and the goals scored for top 10 scoring teams by season\n",
    "def getTopScoringTeams():\n",
    "    all_seasons_top_scoring = pd.DataFrame({\n",
    "        '2008': pd.Series(total_goals_2008['total goals']).nlargest(10).values,\n",
    "        '2009': pd.Series(total_goals_2009['total goals']).nlargest(10).values,\n",
    "        '2010': pd.Series(total_goals_2010['total goals']).nlargest(10).values,\n",
    "        '2011': pd.Series(total_goals_2011['total goals']).nlargest(10).values,\n",
    "        '2012': pd.Series(total_goals_2012['total goals']).nlargest(10).values,\n",
    "        '2013': pd.Series(total_goals_2013['total goals']).nlargest(10).values,\n",
    "        '2014': pd.Series(total_goals_2014['total goals']).nlargest(10).values,\n",
    "        '2015': pd.Series(total_goals_2015['total goals']).nlargest(10).values,\n",
    "    })\n",
    "    return all_seasons_top_scoring\n",
    "\n",
    "'b'\n",
    "### function to match team long name to team api id\n",
    "def getTeamName(index):\n",
    "    team_long_name = Complete_Team['team_long_name'].loc[Complete_Team['team_api_id'] == index].values\n",
    "    return team_long_name\n",
    "def getTeamNames(df):\n",
    "    return df.applymap(getTeamName)\n",
    "### creating dataframe that shows ALL SEASONS and team names for top 10 scoring teams by season\n",
    "all_seasons_top_scoring_teams = pd.DataFrame({\n",
    "    '2008': pd.Series(total_goals_2008['total goals']).nlargest(10).index,\n",
    "    '2009': pd.Series(total_goals_2009['total goals']).nlargest(10).index,\n",
    "    '2010': pd.Series(total_goals_2010['total goals']).nlargest(10).index,\n",
    "    '2011': pd.Series(total_goals_2011['total goals']).nlargest(10).index,\n",
    "    '2012': pd.Series(total_goals_2012['total goals']).nlargest(10).index,\n",
    "    '2013': pd.Series(total_goals_2013['total goals']).nlargest(10).index,\n",
    "    '2014': pd.Series(total_goals_2014['total goals']).nlargest(10).index,\n",
    "    '2015': pd.Series(total_goals_2015['total goals']).nlargest(10).index,\n",
    "})\n",
    "\n",
    "\n",
    "getTeamNames(all_seasons_top_scoring_teams)\n"
   ]
  },
  {
   "cell_type": "markdown",
   "metadata": {},
   "source": [
    "__Top Scoring Teams__<br><br>\n",
    "This is a really neat table to look at. It shows us the teams that fell in the top ten as far as number of goals scored during the season. Its neat to look at because you can quickly scan the table and see team names repeating as they appear in multiple seasons top ten scoring. What is amazing to see is Barcelona and Real Madrid showing up at the top of the list every season, with the exception of 2009, where they finished 3rd and 4th. "
   ]
  },
  {
   "cell_type": "markdown",
   "metadata": {},
   "source": [
    "#### Goals  (cont'd)\n",
    "    7. Sum of top ten scoring teams' goals and how its changed by season, illustrated by graph\n"
   ]
  },
  {
   "cell_type": "code",
   "execution_count": 19,
   "metadata": {},
   "outputs": [
    {
     "data": {
      "image/png": "[encoded data removed]",
      "text/plain": [
       "<matplotlib.figure.Figure at 0x11ad7b208>"
      ]
     },
     "metadata": {},
     "output_type": "display_data"
    }
   ],
   "source": [
    "### getting sum of top ten scoring teams goal totals by season\n",
    "def TopTenTeamsTotalGoals():\n",
    "    seasons = [2008, 2009, 2010, 2011, 2012, 2013, 2014, 2015]\n",
    "    top_ten_goals_totals_by_seasons = [pd.Series(total_goals_2008['total goals']).nlargest(10).values.sum(),\n",
    "                                      pd.Series(total_goals_2009['total goals']).nlargest(10).values.sum(),\n",
    "                                      pd.Series(total_goals_2010['total goals']).nlargest(10).values.sum(),\n",
    "                                      pd.Series(total_goals_2011['total goals']).nlargest(10).values.sum(),\n",
    "                                      pd.Series(total_goals_2012['total goals']).nlargest(10).values.sum(),\n",
    "                                      pd.Series(total_goals_2013['total goals']).nlargest(10).values.sum(),\n",
    "                                      pd.Series(total_goals_2014['total goals']).nlargest(10).values.sum(),\n",
    "                                      pd.Series(total_goals_2015['total goals']).nlargest(10).values.sum()]\n",
    "\n",
    "    ### graph that shows how the total amount of goals scored by top 10 teams has changed by season\n",
    "    plt.plot(seasons,top_ten_goals_totals_by_seasons)\n",
    "    plt.xlabel('Season')\n",
    "    plt.ylabel('Goals')\n",
    "    plt.title('Sum of Top 10 Scoring Teams by Season')\n",
    "    plt.show()\n",
    "\n",
    "TopTenTeamsTotalGoals()"
   ]
  },
  {
   "cell_type": "markdown",
   "metadata": {},
   "source": [
    "__Sum of Top 10 Scoring Teams by Season__<br><br>\n",
    "In an effort to further analyze the top scoring teams, this chart was built to illustrate the amount of goals scored in total by the top ten teams. The graph shows how the total amount of 'offense' has changed for this group of teams over the years. In most seasons, more than 900 goals were scored by the top ten scoring teams. "
   ]
  },
  {
   "cell_type": "markdown",
   "metadata": {},
   "source": [
    "#### Goals  (Cont'd)\n",
    "\n",
    "       8. Show me the # of seasons each team has been in the top 10 scoring \n"
   ]
  },
  {
   "cell_type": "code",
   "execution_count": 20,
   "metadata": {
    "scrolled": true
   },
   "outputs": [],
   "source": [
    "def ListTimesTeamsInTopTen():\n",
    "    counted = []\n",
    "    seen_again = []\n",
    "    total_count_of_team = []\n",
    "    seasons_counting_teams = ['2008', '2009', '2010', '2011', '2012', '2013', '2014', '2015']\n",
    "    x = 0\n",
    "    while x < len(seasons_counting_teams):\n",
    "        for item in all_seasons_top_scoring_teams[seasons_counting_teams[x]]:\n",
    "            if item not in counted:\n",
    "                counted.append(item)\n",
    "            elif item in counted:\n",
    "                seen_again.append(item)\n",
    "        x+=1\n",
    "\n",
    "    for x in counted:\n",
    "        total_count_of_team.append(seen_again.count(x))\n",
    "\n",
    "    total_count_of_team = np.array(total_count_of_team)\n",
    "    total_count_of_team = total_count_of_team + 1\n",
    "\n",
    "    times_in_top_ten = pd.DataFrame(data = {'team id': counted, 'count': total_count_of_team})\n",
    "    times_in_top_ten.sort_values('count', ascending = False)\n",
    "    count = 0\n",
    "    while count < len(counted):\n",
    "        times_in_top_ten.loc[times_in_top_ten['team id'] == counted[count], 'team name'] = Complete_Team.loc[Complete_Team['team_api_id'] == counted[count], 'team_long_name'].values\n",
    "        count +=1\n",
    "\n",
    "    times_in_top_ten.sort_values('count', ascending=False)\n",
    "\n",
    "ListTimesTeamsInTopTen()"
   ]
  },
  {
   "cell_type": "markdown",
   "metadata": {},
   "source": [
    "#### Goals  (cont'd)\n",
    "\n",
    "    9. Show me the change in total scoring for the top two scoring teams in last 8 seasons\n"
   ]
  },
  {
   "cell_type": "code",
   "execution_count": 21,
   "metadata": {},
   "outputs": [
    {
     "data": {
      "image/png": "[encoded data removed]",
      "text/plain": [
       "<matplotlib.figure.Figure at 0x117dd8860>"
      ]
     },
     "metadata": {},
     "output_type": "display_data"
    }
   ],
   "source": [
    "def ShowRealBarceJuvGoalsbySeason():\n",
    "    real_madrid = 8633\n",
    "    barcelona = 8634\n",
    "    juventus = 9885\n",
    "    real_madrid_goals = []\n",
    "    barcelona_goals = []\n",
    "    juventus_goals = []\n",
    "    x =0\n",
    "    #adding season goal totals by season to appropriate list\n",
    "    while x < len(total_goals_array_of_seasons):\n",
    "        real_madrid_goals.append(total_goals_array_of_seasons[x].loc[real_madrid, 'total goals'])\n",
    "        barcelona_goals.append(total_goals_array_of_seasons[x].loc[barcelona, 'total goals'])\n",
    "        juventus_goals.append(total_goals_array_of_seasons[x].loc[juventus, 'total goals'])\n",
    "        x+=1\n",
    "\n",
    "    plt.plot(real_madrid_goals, label = 'Real Madrid')\n",
    "    plt.plot(barcelona_goals, label = 'Barcelona')\n",
    "    plt.plot(juventus_goals, label = 'Juventus')\n",
    "    plt.legend()\n",
    "    plt.title('Total Goals Scored by Season')\n",
    "    plt.xlabel('Season')\n",
    "\n",
    "    plt.show()\n",
    "\n",
    "ShowRealBarceJuvGoalsbySeason()"
   ]
  },
  {
   "cell_type": "markdown",
   "metadata": {},
   "source": [
    "__Total Goals Scored by Season__<br><br>\n",
    "After seeing Real Madrid and Barcelona in the top ten every year, I wanted to investigate them a little more. This graph shows the total number of goals scored by these two teams every season. And to put it in perspective, I added another team that showed up in the top ten a couple of times, Juventus. Real Madrid and Barcelona have a very close relationship, with each team scoring in between about 90 and 110 goals a season. These are the superpower teams and their results. Juventus is more of an average to good team, and schores roughly 70 goals a game. "
   ]
  },
  {
   "cell_type": "markdown",
   "metadata": {},
   "source": [
    "### Section 4: Conclusions\n",
    "\n",
    "After exploring this data and addressing the questions I've stated above, I can make several conclusions regarding what I've learned.\n",
    "\n",
    "1. In regards to individual players and their attributes, I've determined that certain characteristics influence other characteristics. For example, in my analysis, I've come to the conclusion that the age of a player will affect the speed of a player. The older the player, the more likely that the overall sprint speed will be lower. This is proven by looking at all players' age and sprint speed, taking the values, and finding a negative correlation of .37. Its not a super strong correlation, but it does indicate a relatively strong correlation. Another example of player attibutes is how height correlates to sprint speed and strength of a player. I've concluded that the taller a player, the slower the sprint speed, as well as the taller the player, the stronger. This is demonstrated in the correlation equation, which shows that height is negatively correlated to sprint speed by .44, and is positively correlated with strength by .58.\n",
    "<br>\n",
    "<br>\n",
    "2. Another conclusion I have made from analyzing this data is that home teams are more likely to score more goals throughout the season than away teams. To prove this, I derived the average amount of goals scored in a season for home teams and the average amount of goals scored in a season for away teams. After doing this for each season, I graphed the results, which clearly show a 6-7 goal difference in home team vs away team average goals scored in each of the 8 seasons. I can also conclude that home teams are also more likely to win as opposed to away teams. This was demonstrated by cycling through each season of matches and determining the winner of each match by looking at home goals scored and away goals scored. After this, I took the winning percentage of home teams and the winning percentage of away teams. This was done for each season, with the results illustrated in a graph. The graph shows each season and the winning percentage of away teams vs the winning percentage of home teams. In each season, the home team won significantly more games than the away team.\n",
    "<br>\n",
    "<br>\n",
    "3. I've also made some conclusions regarding some interesting facts from the data:\n",
    "<br>\n",
    "<br>\n",
    "*Players*<br>\n",
    "The average height of a player is 181 cm. The tallest player in soccer is Kristof van Hout, standing at 208 cm tall. The shortest player is Juan Quero, standing at 157 cm tall. Additionally, I displayed the heights of all players in a histogram bar chart. From this chart, I can conclude that the vast majority of players are in between 180 and 190 cm tall. This group of players outnumbers the next closest group of players (170-180cm) by almost 2 times, and the next closest group (190-200cm) by almost 6 times.<br>\n",
    "I've also derived some pretty cool insights regarding player age. I've discovered that the average age of all players is 31 years old, which also happens to be the median. The mode age of all players is 30. I learned that the oldest player is Alberto Fontana, at the age of 51. The youngest players are 19 years old, and they are Alban Lafont, Gianluigi Donnarumma', and Jonathan Leko. What really surprised me was the graph that I made illustrating the players' ages. In the graph, I was suprised to see so many older players. For example, there was a large number of players over the age of 45! Also, the most common age group of players is in between 30-35 years old. This seems so old for professional soccer players!<br>\n",
    "<br>\n",
    "*Teams*<br>\n",
    "When it comes to teams and their performances, I've come to some fascinating conclusions after looking at the data. I wanted to know who scored the most goals in a game as an away team and as a home team. The results I got show that the most goals scored by an away team is 9 goals. This was done by Paris Saint-Germain on March 13th, 2016, and was done against the home team ES Troyes AC. The most goals scored by a home team is 10 goals (happened on two seperate occasions). The teams to have done this are PSV and Real Madrid CF. PSV did it against Feyenoord on October 24th, 2010, while Real Madrid did it against Rayo Vallecano on December 20th, 2015. <br>\n",
    "I continued to look at teams and goals scored, and discovered that the lowest total amount of goals scored in a season is 17. On the contrary, the largest amount of goals scored in one season was 121. This was a surpising difference, and led me to look further into which teams have scored the most goals over the seasons. What I discovered was that Real Madrid and Barcelona were always at the top of the list in terms of goals scored. Barcelona led the league in scoring 3 out of 8 seasons, while Real Madrid led 4 seasons. This really stood out to me, as it has a high degree of difficulty to be the leading scoring team in a season. It shows how dominant these two teams are. This led me to do a little more digging on these two teams. I graphed the amount of goals scored by these two teams, while also graphing the goals scored by another team that only appeared in the top ten once (representing a more 'average' team to compare against). Barcelona and Real Madrid lines follow each other pretty close, while the Juventus line is much much lower. Additionally, I created a table that showed the amount of times a team was in the top ten in scoring for a season. Real Madrid and Barcelona were in the top ten in every single season! Again, this draws me to the conlusion of how dominant Barcelona and Real Madrid is.\n",
    "<br>\n",
    "<br>\n",
    "*Overall Conclusions*<br>\n",
    "Overall, I can conclude a few things. Player height and age do correlate with things like speed and strength. The age of players playing soccer is much higher than I thought, leading me to believe that players can have potentially very long careers in soccer. Also, I can conclude that being a home team is far more beneficial than being an away team. You are more likely to score more goals in a season as well as much more likely to win as a home team. I've also come to the conlcusion that Barcelona and Real Madrid are the two most dominant teams. They have scored the most goals over 8 seasons and conssitently show up in the top ten scoring list. Lastly, I graphed the total goals scored by top ten scoring teams in each season, and can conclude that the overall trend in goals scored is going up. <br>\n",
    "<br>\n",
    "*Limitations*<br>\n",
    "There were a few things the data didn't provide that I wish I could look at. One things is the team that the player is on. I can't look at things like \"when this player scores, does the team have a better chance of winning?\". Also, it doesn't show who scored the goals. I can't look at who scored the most goals in a season, or the relationship between a team winning and a player scoring. "
   ]
  }
 ],
 "metadata": {
  "kernelspec": {
   "display_name": "Python [default]",
   "language": "python",
   "name": "python3"
  },
  "language_info": {
   "codemirror_mode": {
    "name": "ipython",
    "version": 3
   },
   "file_extension": ".py",
   "mimetype": "text/x-python",
   "name": "python",
   "nbconvert_exporter": "python",
   "pygments_lexer": "ipython3",
   "version": "3.6.3"
  }
 },
 "nbformat": 4,
 "nbformat_minor": 2
}
